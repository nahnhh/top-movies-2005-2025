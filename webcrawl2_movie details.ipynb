{
 "cells": [
  {
   "cell_type": "markdown",
   "id": "2642c6d5",
   "metadata": {},
   "source": [
    "# Webcrawling process (cont') - đang bỏ dở, có thể không làm"
   ]
  },
  {
   "cell_type": "code",
   "execution_count": 19,
   "id": "b2cdee44",
   "metadata": {},
   "outputs": [],
   "source": [
    "import pandas as pd\n",
    "import requests\n",
    "import warnings\n",
    "# warnings.filterwarnings(\"ignore\")"
   ]
  },
  {
   "cell_type": "markdown",
   "id": "98dabd49",
   "metadata": {},
   "source": [
    "## Get Movie Details of each film\n",
    "This is the hardest part, not only does it takes time but there is also a risk of being temporarily/permanently blocked by the site (Error 403 Forbidden)..."
   ]
  },
  {
   "cell_type": "markdown",
   "id": "26c9081c",
   "metadata": {},
   "source": [
    "### List of browers to rotate"
   ]
  },
  {
   "cell_type": "code",
   "execution_count": 99,
   "id": "f95d69a9",
   "metadata": {},
   "outputs": [],
   "source": [
    "HEADERS_LIST = [\n",
    "  {\n",
    "    \"User-Agent\": \"Mozilla/5.0 (Windows NT 10.0; Win64; x64; rv:89.0) Gecko/20100101 Firefox/89.0\",\n",
    "    \"X-Requested-With\": \"XMLHttpRequest\"\n",
    "  },\n",
    "  {\n",
    "    \"User-Agent\": \"Mozilla/5.0 (Macintosh; Intel Mac OS X 10.13; rv:110.0) Gecko/20100101 Firefox/110.0\",\n",
    "    \"X-Requested-With\": \"XMLHttpRequest\"\n",
    "  },\n",
    "  {\n",
    "    \"User-Agent\": \"Mozilla/5.0 (X11; Linux x86_64) AppleWebKit/537.36 (KHTML, like Gecko) Chrome/50.0.2661.75 Safari/537.36\",\n",
    "    \"X-Requested-With\": \"XMLHttpRequest\"\n",
    "  },\n",
    "  {\n",
    "    \"User-Agent\": \"Mozilla/5.0 (Windows NT 10.0) AppleWebKit/537.36 (KHTML, like Gecko) Chrome/110.0.0.0 Safari/537.36 Edg/110.0.1587.50\",\n",
    "    \"X-Requested-With\": \"XMLHttpRequest\"\n",
    "  },\n",
    "]"
   ]
  },
  {
   "cell_type": "markdown",
   "id": "3e92df97",
   "metadata": {},
   "source": [
    "### Old: Parallel Webscraping - 20s/movie"
   ]
  },
  {
   "cell_type": "code",
   "execution_count": 21,
   "id": "5e435f44",
   "metadata": {},
   "outputs": [],
   "source": [
    "from bs4 import BeautifulSoup\n",
    "import re\n",
    "from datetime import datetime\n",
    "import random\n",
    "\n",
    "def parse_movie_details(soup, url):\n",
    "  \"\"\"\n",
    "  Shared parsing logic for movie details from BeautifulSoup object.\n",
    "  Returns a dictionary with the structured data.\n",
    "  \"\"\"\n",
    "  # Find the Movie Details section\n",
    "  movie_details = {'link': url}\n",
    "  \n",
    "  # Get table #1 (index 1) - the metrics table\n",
    "  production_budget = ''\n",
    "  all_tables = soup.find_all('table', limit=4)\n",
    "  metrics_table = all_tables[1]\n",
    "  \n",
    "  # Search all rows in table #1 for \"Production Budget\"\n",
    "  rows = metrics_table.find_all('tr')\n",
    "  for row in rows:\n",
    "    cells = row.find_all(['td', 'th'])\n",
    "    for cell in (cells):\n",
    "      text = cell.get_text(strip=True)\n",
    "      # Check if this cell contains \"Production Budget\"\n",
    "      if 'production budget' in text.lower():\n",
    "        production_budget = re.search(r'\\$?([\\d,]+)(?![\\d,])', text).group(0)\n",
    "        movie_details['Production Budget'] = production_budget\n",
    "  \n",
    "  # Look for the table with Movie Details\n",
    "  details_table = all_tables[3]\n",
    "  \n",
    "  if details_table:\n",
    "    rows = details_table.find_all('tr')\n",
    "    for row in rows:\n",
    "      cells = row.find_all(['td', 'th'])\n",
    "      if len(cells) >= 2:\n",
    "          key = cells[0].get_text(strip=True).replace('\\xa0', ' ')\n",
    "          value = cells[1].get_text(strip=True).replace('\\xa0', ' ')\n",
    "          \n",
    "          # Clean up the key (remove colons and extra spaces)\n",
    "          key = key.replace(':', '').strip()\n",
    "          \n",
    "          # Skip unwanted fields completely\n",
    "          if key in ['Video Release', 'MPAA Rating', 'Franchise', 'Comparisons', 'Keywords', 'Source', 'Creative Type', 'Languages']:\n",
    "              continue\n",
    "          \n",
    "          # Handle Production Countries and Languages separately\n",
    "          if key == 'Production Countries':\n",
    "              # Check if Languages data is mixed in\n",
    "              if 'Languages:' in value:\n",
    "                  parts = value.split('Languages:')\n",
    "                  movie_details['Production Countries'] = parts[0].strip()\n",
    "                  if len(parts) > 1:\n",
    "                      movie_details['Languages'] = parts[1].strip()\n",
    "              else:\n",
    "                  movie_details['Production Countries'] = value\n",
    "          elif key == 'Languages':\n",
    "              movie_details['Languages'] = value\n",
    "          else:\n",
    "              # Store all other fields\n",
    "              movie_details[key] = value\n",
    "  \n",
    "  # Extract earliest release date from Domestic and International releases\n",
    "  release_dates = []\n",
    "  \n",
    "  # Extract dates from Domestic Releases\n",
    "  if 'Domestic Releases' in movie_details:\n",
    "      domestic_text = movie_details['Domestic Releases']\n",
    "      # Look for date patterns like \"February 14th, 2025\"\n",
    "      domestic_dates = re.findall(r'([A-Za-z]+ \\d{1,2}(?:st|nd|rd|th)?, \\d{4})', domestic_text)\n",
    "      release_dates.extend(domestic_dates)\n",
    "  \n",
    "  # Extract dates from International Releases\n",
    "  if 'International Releases' in movie_details:\n",
    "      intl_text = movie_details['International Releases']\n",
    "      # Look for date patterns like \"January 29th, 2025\"\n",
    "      intl_dates = re.findall(r'([A-Za-z]+ \\d{1,2}(?:st|nd|rd|th)?, \\d{4})', intl_text)\n",
    "      release_dates.extend(intl_dates)\n",
    "  \n",
    "  # Find the earliest date\n",
    "  if release_dates:\n",
    "      try:\n",
    "          # Convert dates to datetime objects for comparison\n",
    "          parsed_dates = []\n",
    "          for date_str in release_dates:\n",
    "              try:\n",
    "                  # Handle ordinal suffixes (st, nd, rd, th)\n",
    "                  clean_date = re.sub(r'(\\d+)(st|nd|rd|th)', r'\\1', date_str)\n",
    "                  parsed_date = datetime.strptime(clean_date, '%B %d, %Y')\n",
    "                  parsed_dates.append(parsed_date)\n",
    "              except:\n",
    "                  continue\n",
    "          \n",
    "          if parsed_dates:\n",
    "              earliest_date = min(parsed_dates)\n",
    "              movie_details['Release Date'] = earliest_date.strftime('%B %d, %Y')\n",
    "      except:\n",
    "          pass\n",
    "  \n",
    "  # Remove the original release fields since we now have Release Date\n",
    "  movie_details.pop('Domestic Releases', None)\n",
    "  movie_details.pop('International Releases', None)\n",
    "  \n",
    "  return movie_details"
   ]
  },
  {
   "cell_type": "code",
   "execution_count": 22,
   "id": "c993c4c6",
   "metadata": {},
   "outputs": [],
   "source": [
    "def scrape_movie_details(url):\n",
    "  \"\"\"\n",
    "  Scrape the Movie Details section from the-numbers.com\n",
    "  Returns a dictionary with the structured data\n",
    "  \"\"\"\n",
    "  header = random.choice(HEADERS_LIST)  # Use choice() not choices()\n",
    "  \n",
    "  s = requests.Session()\n",
    "  r = s.get(url, headers=header, timeout=15)\n",
    "  soup = BeautifulSoup(r.text, 'html.parser')\n",
    "  \n",
    "  # Use the shared parsing logic\n",
    "  return parse_movie_details(soup, url)"
   ]
  },
  {
   "cell_type": "markdown",
   "id": "5256439f",
   "metadata": {},
   "source": [
    "### New: Async webscraping - 1s/movie"
   ]
  },
  {
   "cell_type": "code",
   "execution_count": 23,
   "id": "a0b1ecf7",
   "metadata": {},
   "outputs": [],
   "source": [
    "import asyncio\n",
    "import aiohttp\n",
    "from bs4 import BeautifulSoup\n",
    "from tqdm.asyncio import tqdm\n",
    "\n",
    "max_concurrency = 10\n",
    "sem = asyncio.Semaphore(max_concurrency)\n",
    "timeout_urls = []\n",
    "\n",
    "async def scrape_movie_details_async(session, header, url):\n",
    "  \"\"\"\n",
    "  Async scraping of movie details.\n",
    "  \"\"\"\n",
    "  async with sem:\n",
    "    try:\n",
    "      async with session.get(url, headers=header, timeout=25) as r:\n",
    "        status = r.status\n",
    "        if status != 200:\n",
    "          print(f\"HTTP {status} for {url}\")\n",
    "          return None\n",
    "        html = await r.text()\n",
    "        soup = BeautifulSoup(html, 'html.parser')\n",
    "        \n",
    "        # Use the shared parsing logic\n",
    "        data = parse_movie_details(soup, url)\n",
    "        # Treat dicts with only 'link' as invalid\n",
    "        if isinstance(data, dict) and len(data) <= 1:\n",
    "          print(f\"Parsed no data for {url}\")\n",
    "          return None\n",
    "        return data\n",
    "    \n",
    "    except asyncio.TimeoutError:\n",
    "        print(f\"Timeout error for {url}\")\n",
    "        return None\n",
    "    except Exception as e:\n",
    "        print(f\"Error for {url}: {e}\")\n",
    "        return None\n",
    "\n",
    "async def scrape_batch(session, header, urls):\n",
    "  \"\"\"Async scraping, continued - callable function.\"\"\"\n",
    "  if session is None:\n",
    "    async with aiohttp.ClientSession() as session:\n",
    "      tasks = [scrape_movie_details_async(session, header, url) for url in urls]\n",
    "      return await tqdm.gather(*tasks)\n",
    "  else:\n",
    "    tasks = [scrape_movie_details_async(session, header, url) for url in urls]\n",
    "    return await tqdm.gather(*tasks)"
   ]
  },
  {
   "cell_type": "code",
   "execution_count": 94,
   "id": "f392eff9",
   "metadata": {},
   "outputs": [],
   "source": [
    "async def process_batch_with_error_handling(session, header, urls, batch_num):\n",
    "  \"\"\"Process one batch with error handling\"\"\"\n",
    "  try:\n",
    "    print(f\"========== PROCESSING BATCH {batch_num:02d} ({len(urls)} URLs)... ==========\")\n",
    "\n",
    "    results = await scrape_batch(session, header, urls)\n",
    "    \n",
    "    # Keep only non-empty dicts with more than just the link\n",
    "    valid_results = []\n",
    "    for r in results:\n",
    "      if isinstance(r, dict) and len(r) > 1:\n",
    "        valid_results.append(r)\n",
    "    \n",
    "    if valid_results:\n",
    "      # Convert to DataFrame\n",
    "      df = pd.DataFrame(valid_results)\n",
    "      \n",
    "      # Save to CSV\n",
    "      filename = f'Movie Details/movie_details_{batch_num:02d}.csv'\n",
    "      df.to_csv(filename, index=False)\n",
    "      print(f\"✅ Batch {batch_num:02d} completed: {len(valid_results)} movies saved to {filename}\")\n",
    "      return len(valid_results)\n",
    "    else:\n",
    "      print(f\"⚠️ Batch {batch_num:02d} completed but no valid data\")\n",
    "      return None\n",
    "            \n",
    "  except Exception as e:\n",
    "    print(f\"❌ Error in batch {batch_num:02d}: {e}\")\n",
    "    return None\n",
    "\n",
    "async def process_all_batches(urls, start_at=0):\n",
    "  \"\"\"Process all batches with error handling.\n",
    "  Accepts:\n",
    "    - string URL → one batch with one URL\n",
    "    - list[str]  → one batch with many URLs\n",
    "    - list[list[str]] → multiple batches (original behavior)\n",
    "  \"\"\"\n",
    "  # Normalize input into list of batches (list[list[str]])\n",
    "  if isinstance(urls, str):\n",
    "    batches = [[urls]]\n",
    "  elif isinstance(urls, list):\n",
    "    if len(urls) == 0:\n",
    "      batches = []\n",
    "    elif all(isinstance(u, str) for u in urls):\n",
    "      batches = [urls]\n",
    "    else:\n",
    "      batches = urls\n",
    "  else:\n",
    "    batches = []\n",
    "  \n",
    "  # Clamp start_at\n",
    "  if start_at is None or not isinstance(start_at, int):\n",
    "    start_at = 0\n",
    "  if start_at < 0:\n",
    "    start_at = 0\n",
    "  if 90 > start_at >= len(batches) > 0:\n",
    "    start_at = len(batches) - 1\n",
    "  if start_at == 90:\n",
    "    start_at = 90\n",
    "  \n",
    "  total_processed = 0\n",
    "\n",
    "  async with aiohttp.ClientSession() as session:\n",
    "    batch_num = start_at\n",
    "    for batch_urls in batches:\n",
    "      batch_num += 1\n",
    "      i = (batch_num - 1) // 2 % len(HEADERS_LIST)\n",
    "      header = HEADERS_LIST[i]\n",
    "      processed_count = await process_batch_with_error_handling(session, header, batch_urls, batch_num)\n",
    "      total_processed += processed_count\n",
    "      \n",
    "      # Small delay between batches to be nice to the server\n",
    "      await asyncio.sleep(1)\n",
    "  \n",
    "  print(f\"\\n🎉 All batches completed! Total movies processed: {total_processed}\")"
   ]
  },
  {
   "cell_type": "code",
   "execution_count": 59,
   "id": "5b560dfc",
   "metadata": {},
   "outputs": [],
   "source": [
    "import pandas as pd\n",
    "df_WW_all = pd.read_csv(\"WW_all.csv\")\n",
    "all_movie_details = []\n",
    "links = [df_WW_all['link'].tolist()[x:x+200] for x in range(0, len(df_WW_all), 200)]"
   ]
  },
  {
   "cell_type": "code",
   "execution_count": 62,
   "id": "9f815ba8",
   "metadata": {},
   "outputs": [
    {
     "data": {
      "text/plain": [
       "True"
      ]
     },
     "execution_count": 62,
     "metadata": {},
     "output_type": "execute_result"
    }
   ],
   "source": [
    "links_to_scrape = links\n",
    "isinstance(links_to_scrape, list)"
   ]
  },
  {
   "cell_type": "code",
   "execution_count": 27,
   "id": "674d74b2",
   "metadata": {},
   "outputs": [],
   "source": [
    "# scrape_movie_details(links_to_scrape)"
   ]
  },
  {
   "cell_type": "code",
   "execution_count": 63,
   "id": "cf7e85f2",
   "metadata": {},
   "outputs": [
    {
     "name": "stdout",
     "output_type": "stream",
     "text": [
      "========== PROCESSING BATCH 01 (200 URLs)... ==========\n"
     ]
    },
    {
     "name": "stderr",
     "output_type": "stream",
     "text": [
      "100%|██████████| 200/200 [01:55<00:00,  1.73it/s]\n"
     ]
    },
    {
     "name": "stdout",
     "output_type": "stream",
     "text": [
      "✅ Batch 01 completed: 200 movies saved to Movie Details/movie_details_01.csv\n",
      "========== PROCESSING BATCH 02 (200 URLs)... ==========\n"
     ]
    },
    {
     "name": "stderr",
     "output_type": "stream",
     "text": [
      "100%|██████████| 200/200 [00:54<00:00,  3.68it/s]\n"
     ]
    },
    {
     "name": "stdout",
     "output_type": "stream",
     "text": [
      "✅ Batch 02 completed: 200 movies saved to Movie Details/movie_details_02.csv\n",
      "========== PROCESSING BATCH 03 (200 URLs)... ==========\n"
     ]
    },
    {
     "name": "stderr",
     "output_type": "stream",
     "text": [
      "100%|██████████| 200/200 [01:24<00:00,  2.37it/s]\n"
     ]
    },
    {
     "name": "stdout",
     "output_type": "stream",
     "text": [
      "✅ Batch 03 completed: 200 movies saved to Movie Details/movie_details_03.csv\n",
      "========== PROCESSING BATCH 04 (200 URLs)... ==========\n"
     ]
    },
    {
     "name": "stderr",
     "output_type": "stream",
     "text": [
      "100%|██████████| 200/200 [01:57<00:00,  1.70it/s]\n"
     ]
    },
    {
     "name": "stdout",
     "output_type": "stream",
     "text": [
      "✅ Batch 04 completed: 200 movies saved to Movie Details/movie_details_04.csv\n",
      "========== PROCESSING BATCH 05 (200 URLs)... ==========\n"
     ]
    },
    {
     "name": "stderr",
     "output_type": "stream",
     "text": [
      " 22%|██▎       | 45/200 [00:41<02:44,  1.06s/it]"
     ]
    },
    {
     "name": "stdout",
     "output_type": "stream",
     "text": [
      "Timeout error for https://www.the-numbers.com/movie/Dasavatharam#tab=summary\n",
      "Timeout error for https://www.the-numbers.com/movie/Public-Enemies-(2009)#tab=summary\n"
     ]
    },
    {
     "name": "stderr",
     "output_type": "stream",
     "text": [
      " 24%|██▎       | 47/200 [00:42<02:02,  1.25it/s]"
     ]
    },
    {
     "name": "stdout",
     "output_type": "stream",
     "text": [
      "Timeout error for https://www.the-numbers.com/movie/Did-You-Hear-About-the-Morgans#tab=summary\n"
     ]
    },
    {
     "name": "stderr",
     "output_type": "stream",
     "text": [
      " 24%|██▍       | 49/200 [00:45<02:43,  1.08s/it]"
     ]
    },
    {
     "name": "stdout",
     "output_type": "stream",
     "text": [
      "Timeout error for https://www.the-numbers.com/movie/Transformers-Revenge-of-the-Fallen#tab=summary\n"
     ]
    },
    {
     "name": "stderr",
     "output_type": "stream",
     "text": [
      " 30%|██▉       | 59/200 [01:01<02:47,  1.18s/it]"
     ]
    },
    {
     "name": "stdout",
     "output_type": "stream",
     "text": [
      "Timeout error for https://www.the-numbers.com/movie/Crank-2-High-Voltage#tab=summary\n"
     ]
    },
    {
     "name": "stderr",
     "output_type": "stream",
     "text": [
      " 32%|███▏      | 64/200 [01:06<01:50,  1.23it/s]"
     ]
    },
    {
     "name": "stdout",
     "output_type": "stream",
     "text": [
      "Timeout error for https://www.the-numbers.com/movie/Its-Complicated#tab=summary\n"
     ]
    },
    {
     "name": "stderr",
     "output_type": "stream",
     "text": [
      " 36%|███▋      | 73/200 [01:24<04:20,  2.05s/it]"
     ]
    },
    {
     "name": "stdout",
     "output_type": "stream",
     "text": [
      "Timeout error for https://www.the-numbers.com/movie/Dolphins-and-Whales-Tribes-of-the-Ocean-3D#tab=summary\n"
     ]
    },
    {
     "name": "stderr",
     "output_type": "stream",
     "text": [
      " 42%|████▎     | 85/200 [01:36<02:02,  1.07s/it]"
     ]
    },
    {
     "name": "stdout",
     "output_type": "stream",
     "text": [
      "Timeout error for https://www.the-numbers.com/movie/In-the-Name-of-the-King-A-Dungeon-Siege-Tale#tab=summary\n"
     ]
    },
    {
     "name": "stderr",
     "output_type": "stream",
     "text": [
      " 48%|████▊     | 97/200 [01:49<01:17,  1.32it/s]"
     ]
    },
    {
     "name": "stdout",
     "output_type": "stream",
     "text": [
      "Timeout error for https://www.the-numbers.com/movie/Cash-(2008)#tab=summary\n"
     ]
    },
    {
     "name": "stderr",
     "output_type": "stream",
     "text": [
      " 50%|█████     | 100/200 [01:52<01:04,  1.55it/s]"
     ]
    },
    {
     "name": "stdout",
     "output_type": "stream",
     "text": [
      "Timeout error for https://www.the-numbers.com/movie/Bikur-Ha-Tizmoret-(2008)#tab=summary\n"
     ]
    },
    {
     "name": "stderr",
     "output_type": "stream",
     "text": [
      " 56%|█████▋    | 113/200 [02:08<01:24,  1.03it/s]"
     ]
    },
    {
     "name": "stdout",
     "output_type": "stream",
     "text": [
      "Timeout error for https://www.the-numbers.com/movie/Avatar#tab=summary\n"
     ]
    },
    {
     "name": "stderr",
     "output_type": "stream",
     "text": [
      "100%|██████████| 200/200 [02:27<00:00,  1.35it/s]\n"
     ]
    },
    {
     "name": "stdout",
     "output_type": "stream",
     "text": [
      "✅ Batch 05 completed: 189 movies saved to Movie Details/movie_details_05.csv\n",
      "========== PROCESSING BATCH 06 (200 URLs)... ==========\n"
     ]
    },
    {
     "name": "stderr",
     "output_type": "stream",
     "text": [
      "100%|██████████| 200/200 [01:20<00:00,  2.49it/s]\n"
     ]
    },
    {
     "name": "stdout",
     "output_type": "stream",
     "text": [
      "✅ Batch 06 completed: 200 movies saved to Movie Details/movie_details_06.csv\n",
      "========== PROCESSING BATCH 07 (200 URLs)... ==========\n"
     ]
    },
    {
     "name": "stderr",
     "output_type": "stream",
     "text": [
      "100%|██████████| 200/200 [01:42<00:00,  1.95it/s]\n"
     ]
    },
    {
     "name": "stdout",
     "output_type": "stream",
     "text": [
      "✅ Batch 07 completed: 200 movies saved to Movie Details/movie_details_07.csv\n",
      "========== PROCESSING BATCH 08 (200 URLs)... ==========\n"
     ]
    },
    {
     "name": "stderr",
     "output_type": "stream",
     "text": [
      " 57%|█████▊    | 115/200 [01:25<01:12,  1.17it/s]"
     ]
    },
    {
     "name": "stdout",
     "output_type": "stream",
     "text": [
      "Timeout error for https://www.the-numbers.com/movie/Prometheus#tab=summary\n"
     ]
    },
    {
     "name": "stderr",
     "output_type": "stream",
     "text": [
      " 72%|███████▏  | 143/200 [01:48<00:40,  1.40it/s]"
     ]
    },
    {
     "name": "stdout",
     "output_type": "stream",
     "text": [
      "Timeout error for https://www.the-numbers.com/movie/Straw-Dogs#tab=summary\n"
     ]
    },
    {
     "name": "stderr",
     "output_type": "stream",
     "text": [
      "100%|██████████| 200/200 [02:30<00:00,  1.33it/s]\n"
     ]
    },
    {
     "name": "stdout",
     "output_type": "stream",
     "text": [
      "✅ Batch 08 completed: 198 movies saved to Movie Details/movie_details_08.csv\n",
      "========== PROCESSING BATCH 09 (200 URLs)... ==========\n"
     ]
    },
    {
     "name": "stderr",
     "output_type": "stream",
     "text": [
      "100%|██████████| 200/200 [01:17<00:00,  2.59it/s]\n"
     ]
    },
    {
     "name": "stdout",
     "output_type": "stream",
     "text": [
      "✅ Batch 09 completed: 200 movies saved to Movie Details/movie_details_09.csv\n",
      "========== PROCESSING BATCH 10 (200 URLs)... ==========\n"
     ]
    },
    {
     "name": "stderr",
     "output_type": "stream",
     "text": [
      "100%|██████████| 200/200 [01:37<00:00,  2.05it/s]\n"
     ]
    },
    {
     "name": "stdout",
     "output_type": "stream",
     "text": [
      "✅ Batch 10 completed: 200 movies saved to Movie Details/movie_details_10.csv\n",
      "========== PROCESSING BATCH 11 (200 URLs)... ==========\n"
     ]
    },
    {
     "name": "stderr",
     "output_type": "stream",
     "text": [
      " 32%|███▏      | 63/200 [01:00<03:18,  1.45s/it]"
     ]
    },
    {
     "name": "stdout",
     "output_type": "stream",
     "text": [
      "Timeout error for https://www.the-numbers.com/movie/Million-Ways-to-Die-in-the-West-A#tab=summary\n"
     ]
    },
    {
     "name": "stderr",
     "output_type": "stream",
     "text": [
      " 32%|███▎      | 65/200 [01:02<02:35,  1.15s/it]"
     ]
    },
    {
     "name": "stdout",
     "output_type": "stream",
     "text": [
      "Timeout error for https://www.the-numbers.com/movie/Xi-you-ji-Da-nao-tian-gong#tab=summary\n"
     ]
    },
    {
     "name": "stderr",
     "output_type": "stream",
     "text": [
      " 36%|███▌      | 72/200 [01:11<02:36,  1.22s/it]"
     ]
    },
    {
     "name": "stdout",
     "output_type": "stream",
     "text": [
      "Timeout error for https://www.the-numbers.com/movie/John-Wick#tab=summary\n"
     ]
    },
    {
     "name": "stderr",
     "output_type": "stream",
     "text": [
      " 41%|████      | 82/200 [01:21<01:41,  1.17it/s]"
     ]
    },
    {
     "name": "stdout",
     "output_type": "stream",
     "text": [
      "Timeout error for https://www.the-numbers.com/movie/Asterix-Le-Domaine-des-dieux-(2014-France)#tab=summary\n"
     ]
    },
    {
     "name": "stderr",
     "output_type": "stream",
     "text": [
      " 56%|█████▌    | 112/200 [01:53<01:07,  1.30it/s]"
     ]
    },
    {
     "name": "stdout",
     "output_type": "stream",
     "text": [
      "Timeout error for https://www.the-numbers.com/movie/Other-Woman-The-(2014)#tab=summary\n"
     ]
    },
    {
     "name": "stderr",
     "output_type": "stream",
     "text": [
      " 57%|█████▋    | 114/200 [01:55<01:21,  1.05it/s]"
     ]
    },
    {
     "name": "stdout",
     "output_type": "stream",
     "text": [
      "Timeout error for https://www.the-numbers.com/movie/Seventh-Son#tab=summary\n"
     ]
    },
    {
     "name": "stderr",
     "output_type": "stream",
     "text": [
      " 62%|██████▏   | 124/200 [02:12<01:23,  1.09s/it]"
     ]
    },
    {
     "name": "stdout",
     "output_type": "stream",
     "text": [
      "Timeout error for https://www.the-numbers.com/movie/Fault-in-Our-Stars-The#tab=summary\n"
     ]
    },
    {
     "name": "stderr",
     "output_type": "stream",
     "text": [
      " 66%|██████▌   | 132/200 [02:16<00:35,  1.94it/s]"
     ]
    },
    {
     "name": "stdout",
     "output_type": "stream",
     "text": [
      "Timeout error for https://www.the-numbers.com/movie/Water-Diviner-The#tab=summary\n"
     ]
    },
    {
     "name": "stderr",
     "output_type": "stream",
     "text": [
      "100%|██████████| 200/200 [03:02<00:00,  1.10it/s]\n"
     ]
    },
    {
     "name": "stdout",
     "output_type": "stream",
     "text": [
      "✅ Batch 11 completed: 192 movies saved to Movie Details/movie_details_11.csv\n",
      "========== PROCESSING BATCH 12 (200 URLs)... ==========\n"
     ]
    },
    {
     "name": "stderr",
     "output_type": "stream",
     "text": [
      " 19%|█▉        | 38/200 [00:31<02:12,  1.22it/s]"
     ]
    },
    {
     "name": "stdout",
     "output_type": "stream",
     "text": [
      "Timeout error for https://www.the-numbers.com/movie/Himalaya-(2015-South-Korea)#tab=summary\n"
     ]
    },
    {
     "name": "stderr",
     "output_type": "stream",
     "text": [
      " 43%|████▎     | 86/200 [01:05<01:07,  1.68it/s]"
     ]
    },
    {
     "name": "stdout",
     "output_type": "stream",
     "text": [
      "Timeout error for https://www.the-numbers.com/movie/Island-of-Lemurs-Madagascar#tab=summary\n"
     ]
    },
    {
     "name": "stderr",
     "output_type": "stream",
     "text": [
      "100%|██████████| 200/200 [01:57<00:00,  1.71it/s]\n"
     ]
    },
    {
     "name": "stdout",
     "output_type": "stream",
     "text": [
      "✅ Batch 12 completed: 198 movies saved to Movie Details/movie_details_12.csv\n",
      "========== PROCESSING BATCH 13 (200 URLs)... ==========\n"
     ]
    },
    {
     "name": "stderr",
     "output_type": "stream",
     "text": [
      "100%|██████████| 200/200 [01:10<00:00,  2.85it/s]\n"
     ]
    },
    {
     "name": "stdout",
     "output_type": "stream",
     "text": [
      "✅ Batch 13 completed: 200 movies saved to Movie Details/movie_details_13.csv\n",
      "========== PROCESSING BATCH 14 (200 URLs)... ==========\n"
     ]
    },
    {
     "name": "stderr",
     "output_type": "stream",
     "text": [
      "100%|██████████| 200/200 [01:56<00:00,  1.72it/s]\n"
     ]
    },
    {
     "name": "stdout",
     "output_type": "stream",
     "text": [
      "✅ Batch 14 completed: 200 movies saved to Movie Details/movie_details_14.csv\n",
      "========== PROCESSING BATCH 15 (200 URLs)... ==========\n"
     ]
    },
    {
     "name": "stderr",
     "output_type": "stream",
     "text": [
      " 24%|██▎       | 47/200 [00:47<04:35,  1.80s/it]"
     ]
    },
    {
     "name": "stdout",
     "output_type": "stream",
     "text": [
      "Timeout error for https://www.the-numbers.com/movie/Ghost-in-the-Shell#tab=summary\n"
     ]
    },
    {
     "name": "stderr",
     "output_type": "stream",
     "text": [
      " 24%|██▍       | 48/200 [00:50<05:28,  2.16s/it]"
     ]
    },
    {
     "name": "stdout",
     "output_type": "stream",
     "text": [
      "Timeout error for https://www.the-numbers.com/movie/Beauty-and-the-Beast-(2017)#tab=summary\n"
     ]
    },
    {
     "name": "stderr",
     "output_type": "stream",
     "text": [
      " 24%|██▍       | 49/200 [00:58<09:08,  3.63s/it]"
     ]
    },
    {
     "name": "stdout",
     "output_type": "stream",
     "text": [
      "Timeout error for https://www.the-numbers.com/movie/Lady-Bird-(2017)#tab=summary\n"
     ]
    },
    {
     "name": "stderr",
     "output_type": "stream",
     "text": [
      " 26%|██▌       | 51/200 [00:58<05:23,  2.17s/it]"
     ]
    },
    {
     "name": "stdout",
     "output_type": "stream",
     "text": [
      "Timeout error for https://www.the-numbers.com/movie/Hello-My-Name-is-Doris#tab=summary\n"
     ]
    },
    {
     "name": "stderr",
     "output_type": "stream",
     "text": [
      " 26%|██▌       | 52/200 [00:59<04:38,  1.88s/it]"
     ]
    },
    {
     "name": "stdout",
     "output_type": "stream",
     "text": [
      "Timeout error for https://www.the-numbers.com/movie/Queen-of-Katwe#tab=summary\n"
     ]
    },
    {
     "name": "stderr",
     "output_type": "stream",
     "text": [
      " 26%|██▋       | 53/200 [01:03<05:57,  2.43s/it]"
     ]
    },
    {
     "name": "stdout",
     "output_type": "stream",
     "text": [
      "Timeout error for https://www.the-numbers.com/movie/Ozzy-(Spain)#tab=summary\n"
     ]
    },
    {
     "name": "stderr",
     "output_type": "stream",
     "text": [
      " 28%|██▊       | 55/200 [01:06<04:33,  1.88s/it]"
     ]
    },
    {
     "name": "stdout",
     "output_type": "stream",
     "text": [
      "Timeout error for https://www.the-numbers.com/movie/It-(2017)#tab=summary\n"
     ]
    },
    {
     "name": "stderr",
     "output_type": "stream",
     "text": [
      " 28%|██▊       | 57/200 [01:11<04:57,  2.08s/it]"
     ]
    },
    {
     "name": "stdout",
     "output_type": "stream",
     "text": [
      "Timeout error for https://www.the-numbers.com/movie/Power-Rangers-(2017)#tab=summary\n"
     ]
    },
    {
     "name": "stderr",
     "output_type": "stream",
     "text": [
      " 30%|██▉       | 59/200 [01:16<05:10,  2.20s/it]"
     ]
    },
    {
     "name": "stdout",
     "output_type": "stream",
     "text": [
      "Timeout error for https://www.the-numbers.com/movie/Ratchet-and-Clank#tab=summary\n"
     ]
    },
    {
     "name": "stderr",
     "output_type": "stream",
     "text": [
      " 30%|███       | 61/200 [01:23<06:41,  2.89s/it]"
     ]
    },
    {
     "name": "stdout",
     "output_type": "stream",
     "text": [
      "Timeout error for https://www.the-numbers.com/movie/Coco-(2017)#tab=summary\n"
     ]
    },
    {
     "name": "stderr",
     "output_type": "stream",
     "text": [
      " 31%|███       | 62/200 [01:25<05:27,  2.37s/it]"
     ]
    },
    {
     "name": "stdout",
     "output_type": "stream",
     "text": [
      "Timeout error for https://www.the-numbers.com/movie/Loving-(2016)#tab=summary\n"
     ]
    },
    {
     "name": "stderr",
     "output_type": "stream",
     "text": [
      " 32%|███▎      | 65/200 [01:28<03:56,  1.75s/it]"
     ]
    },
    {
     "name": "stdout",
     "output_type": "stream",
     "text": [
      "Timeout error for https://www.the-numbers.com/movie/Fate-of-the-Furious-The#tab=summary\n"
     ]
    },
    {
     "name": "stderr",
     "output_type": "stream",
     "text": [
      " 34%|███▍      | 68/200 [01:31<02:49,  1.29s/it]"
     ]
    },
    {
     "name": "stdout",
     "output_type": "stream",
     "text": [
      "Timeout error for https://www.the-numbers.com/movie/Shack-The#tab=summary\n",
      "Timeout error for https://www.the-numbers.com/movie/Jigsaw-(2017)#tab=summary\n"
     ]
    },
    {
     "name": "stderr",
     "output_type": "stream",
     "text": [
      " 36%|███▌      | 71/200 [01:36<03:22,  1.57s/it]"
     ]
    },
    {
     "name": "stdout",
     "output_type": "stream",
     "text": [
      "Timeout error for https://www.the-numbers.com/movie/Founding-of-an-Army-The-(2017-China)#tab=summary\n"
     ]
    },
    {
     "name": "stderr",
     "output_type": "stream",
     "text": [
      " 37%|███▋      | 74/200 [01:42<03:24,  1.62s/it]"
     ]
    },
    {
     "name": "stdout",
     "output_type": "stream",
     "text": [
      "Timeout error for https://www.the-numbers.com/movie/Shut-In#tab=summary\n"
     ]
    },
    {
     "name": "stderr",
     "output_type": "stream",
     "text": [
      " 38%|███▊      | 76/200 [01:48<04:48,  2.33s/it]"
     ]
    },
    {
     "name": "stdout",
     "output_type": "stream",
     "text": [
      "Timeout error for https://www.the-numbers.com/movie/Smurfs-The-Lost-Village#tab=summary\n"
     ]
    },
    {
     "name": "stderr",
     "output_type": "stream",
     "text": [
      " 39%|███▉      | 78/200 [01:50<03:27,  1.70s/it]"
     ]
    },
    {
     "name": "stdout",
     "output_type": "stream",
     "text": [
      "Timeout error for https://www.the-numbers.com/movie/Fifty-Shades-Darker#tab=summary\n"
     ]
    },
    {
     "name": "stderr",
     "output_type": "stream",
     "text": [
      " 41%|████      | 82/200 [01:57<04:10,  2.13s/it]"
     ]
    },
    {
     "name": "stdout",
     "output_type": "stream",
     "text": [
      "Timeout error for https://www.the-numbers.com/movie/Other-Side-of-the-Door-The#tab=summary\n"
     ]
    },
    {
     "name": "stderr",
     "output_type": "stream",
     "text": [
      " 42%|████▏     | 84/200 [02:01<03:42,  1.92s/it]"
     ]
    },
    {
     "name": "stdout",
     "output_type": "stream",
     "text": [
      "Timeout error for https://www.the-numbers.com/movie/Going-in-Style-(2017)#tab=summary\n"
     ]
    },
    {
     "name": "stderr",
     "output_type": "stream",
     "text": [
      " 42%|████▎     | 85/200 [02:05<04:48,  2.51s/it]"
     ]
    },
    {
     "name": "stdout",
     "output_type": "stream",
     "text": [
      "Timeout error for https://www.the-numbers.com/movie/Suddenly-Seventeen-(China)#tab=summary\n"
     ]
    },
    {
     "name": "stderr",
     "output_type": "stream",
     "text": [
      " 43%|████▎     | 86/200 [02:07<04:28,  2.36s/it]"
     ]
    },
    {
     "name": "stdout",
     "output_type": "stream",
     "text": [
      "Timeout error for https://www.the-numbers.com/movie/My-Little-Pony-The-Movie-(2017)#tab=summary\n"
     ]
    },
    {
     "name": "stderr",
     "output_type": "stream",
     "text": [
      " 44%|████▍     | 88/200 [02:14<05:17,  2.83s/it]"
     ]
    },
    {
     "name": "stdout",
     "output_type": "stream",
     "text": [
      "Timeout error for https://www.the-numbers.com/movie/Tri-bogatyrya-i-Morskoy-tsar-(Russia)#tab=summary\n"
     ]
    },
    {
     "name": "stderr",
     "output_type": "stream",
     "text": [
      " 44%|████▍     | 89/200 [02:15<04:14,  2.29s/it]"
     ]
    },
    {
     "name": "stdout",
     "output_type": "stream",
     "text": [
      "Timeout error for https://www.the-numbers.com/movie/Mollys-Game#tab=summary\n"
     ]
    },
    {
     "name": "stderr",
     "output_type": "stream",
     "text": [
      " 46%|████▌     | 91/200 [02:16<02:31,  1.39s/it]"
     ]
    },
    {
     "name": "stdout",
     "output_type": "stream",
     "text": [
      "Timeout error for https://www.the-numbers.com/movie/Dads-Army#tab=summary\n"
     ]
    },
    {
     "name": "stderr",
     "output_type": "stream",
     "text": [
      " 46%|████▌     | 92/200 [02:17<02:17,  1.27s/it]"
     ]
    },
    {
     "name": "stdout",
     "output_type": "stream",
     "text": [
      "Timeout error for https://www.the-numbers.com/movie/Pirates-of-the-Caribbean-Dead-Men-Tell-No-Tales#tab=summary\n"
     ]
    },
    {
     "name": "stderr",
     "output_type": "stream",
     "text": [
      " 47%|████▋     | 94/200 [02:22<03:35,  2.03s/it]"
     ]
    },
    {
     "name": "stdout",
     "output_type": "stream",
     "text": [
      "Timeout error for https://www.the-numbers.com/movie/Hologram-for-the-King-A#tab=summary\n"
     ]
    },
    {
     "name": "stderr",
     "output_type": "stream",
     "text": [
      " 48%|████▊     | 97/200 [02:27<02:57,  1.73s/it]"
     ]
    },
    {
     "name": "stdout",
     "output_type": "stream",
     "text": [
      "Timeout error for https://www.the-numbers.com/movie/Rudorufu-to-Ippaiattena-(Japan)#tab=summary\n"
     ]
    },
    {
     "name": "stderr",
     "output_type": "stream",
     "text": [
      " 49%|████▉     | 98/200 [02:31<04:04,  2.40s/it]"
     ]
    },
    {
     "name": "stdout",
     "output_type": "stream",
     "text": [
      "Timeout error for https://www.the-numbers.com/movie/Hillarys-America-The-Secret-History-of-the-Democratic-Party#tab=summary\n"
     ]
    },
    {
     "name": "stderr",
     "output_type": "stream",
     "text": [
      " 50%|████▉     | 99/200 [02:32<03:20,  1.98s/it]"
     ]
    },
    {
     "name": "stdout",
     "output_type": "stream",
     "text": [
      "Timeout error for https://www.the-numbers.com/movie/Geostorm#tab=summary\n"
     ]
    },
    {
     "name": "stderr",
     "output_type": "stream",
     "text": [
      " 50%|█████     | 100/200 [02:37<04:48,  2.89s/it]"
     ]
    },
    {
     "name": "stdout",
     "output_type": "stream",
     "text": [
      "Timeout error for https://www.the-numbers.com/movie/Sha-Po-Lang-Tan-Lang-(2017-Hong-Kong)#tab=summary\n"
     ]
    },
    {
     "name": "stderr",
     "output_type": "stream",
     "text": [
      " 50%|█████     | 101/200 [02:41<05:19,  3.22s/it]"
     ]
    },
    {
     "name": "stdout",
     "output_type": "stream",
     "text": [
      "Timeout error for https://www.the-numbers.com/movie/Kong-Skull-Island#tab=summary\n"
     ]
    },
    {
     "name": "stderr",
     "output_type": "stream",
     "text": [
      " 52%|█████▏    | 103/200 [02:42<02:54,  1.80s/it]"
     ]
    },
    {
     "name": "stdout",
     "output_type": "stream",
     "text": [
      "Timeout error for https://www.the-numbers.com/movie/Happy-Death-Day#tab=summary\n"
     ]
    },
    {
     "name": "stderr",
     "output_type": "stream",
     "text": [
      " 52%|█████▏    | 104/200 [02:44<02:58,  1.86s/it]"
     ]
    },
    {
     "name": "stdout",
     "output_type": "stream",
     "text": [
      "Timeout error for https://www.the-numbers.com/movie/Bong-i-Kim-seon-dal-(korea-2016)#tab=summary\n"
     ]
    },
    {
     "name": "stderr",
     "output_type": "stream",
     "text": [
      " 53%|█████▎    | 106/200 [02:48<02:47,  1.78s/it]"
     ]
    },
    {
     "name": "stdout",
     "output_type": "stream",
     "text": [
      "Timeout error for https://www.the-numbers.com/movie/Ferdinand#tab=summary\n"
     ]
    },
    {
     "name": "stderr",
     "output_type": "stream",
     "text": [
      " 54%|█████▎    | 107/200 [02:49<02:23,  1.54s/it]"
     ]
    },
    {
     "name": "stdout",
     "output_type": "stream",
     "text": [
      "Timeout error for https://www.the-numbers.com/movie/American-Made#tab=summary\n"
     ]
    },
    {
     "name": "stderr",
     "output_type": "stream",
     "text": [
      " 55%|█████▌    | 110/200 [02:58<03:11,  2.13s/it]"
     ]
    },
    {
     "name": "stdout",
     "output_type": "stream",
     "text": [
      "Timeout error for https://www.the-numbers.com/movie/Boku-wa-Ashita-Kinou-no-Kimi-to-Deto-Suru-(Japan)#tab=summary\n"
     ]
    },
    {
     "name": "stderr",
     "output_type": "stream",
     "text": [
      " 56%|█████▌    | 112/200 [03:02<03:04,  2.10s/it]"
     ]
    },
    {
     "name": "stdout",
     "output_type": "stream",
     "text": [
      "Timeout error for https://www.the-numbers.com/movie/Gong-fu-yu-jia-(China)#tab=summary\n"
     ]
    },
    {
     "name": "stderr",
     "output_type": "stream",
     "text": [
      " 57%|█████▊    | 115/200 [03:07<02:08,  1.51s/it]"
     ]
    },
    {
     "name": "stdout",
     "output_type": "stream",
     "text": [
      "Timeout error for https://www.the-numbers.com/movie/Chocolat-(2015)#tab=summary\n"
     ]
    },
    {
     "name": "stderr",
     "output_type": "stream",
     "text": [
      " 60%|█████▉    | 119/200 [03:13<02:08,  1.59s/it]"
     ]
    },
    {
     "name": "stdout",
     "output_type": "stream",
     "text": [
      "Timeout error for https://www.the-numbers.com/movie/Friend-Request-(Germany)#tab=summary\n"
     ]
    },
    {
     "name": "stderr",
     "output_type": "stream",
     "text": [
      " 60%|██████    | 121/200 [03:14<01:21,  1.03s/it]"
     ]
    },
    {
     "name": "stdout",
     "output_type": "stream",
     "text": [
      "Timeout error for https://www.the-numbers.com/movie/Annabelle-Creation#tab=summary\n"
     ]
    },
    {
     "name": "stderr",
     "output_type": "stream",
     "text": [
      " 66%|██████▌   | 131/200 [03:27<01:26,  1.26s/it]"
     ]
    },
    {
     "name": "stdout",
     "output_type": "stream",
     "text": [
      "Timeout error for https://www.the-numbers.com/movie/Neerja#tab=summary\n"
     ]
    },
    {
     "name": "stderr",
     "output_type": "stream",
     "text": [
      " 68%|██████▊   | 135/200 [03:32<01:13,  1.13s/it]"
     ]
    },
    {
     "name": "stdout",
     "output_type": "stream",
     "text": [
      "Timeout error for https://www.the-numbers.com/movie/Eiga-Doraemon-Nobita-no-nankyoku-kachikochi-daibouken-(2017-Japan)#tab=summary\n"
     ]
    },
    {
     "name": "stderr",
     "output_type": "stream",
     "text": [
      " 72%|███████▏  | 144/200 [03:41<00:55,  1.01it/s]"
     ]
    },
    {
     "name": "stdout",
     "output_type": "stream",
     "text": [
      "Timeout error for https://www.the-numbers.com/movie/Xi-You-Fu-Yao-Pian-(China)#tab=summary\n"
     ]
    },
    {
     "name": "stderr",
     "output_type": "stream",
     "text": [
      " 77%|███████▋  | 154/200 [03:52<00:52,  1.14s/it]"
     ]
    },
    {
     "name": "stdout",
     "output_type": "stream",
     "text": [
      "Timeout error for https://www.the-numbers.com/movie/Que-Culpa-Tiene-el-Nino-(Mexico)#tab=summary\n"
     ]
    },
    {
     "name": "stderr",
     "output_type": "stream",
     "text": [
      " 85%|████████▌ | 170/200 [04:05<00:25,  1.17it/s]"
     ]
    },
    {
     "name": "stdout",
     "output_type": "stream",
     "text": [
      "Timeout error for https://www.the-numbers.com/movie/Kurosaki-kun-no-iinari-ni-nante-naranai-(Japan)-(2016)#tab=summary\n"
     ]
    },
    {
     "name": "stderr",
     "output_type": "stream",
     "text": [
      "100%|██████████| 200/200 [04:25<00:00,  1.33s/it]\n"
     ]
    },
    {
     "name": "stdout",
     "output_type": "stream",
     "text": [
      "✅ Batch 15 completed: 154 movies saved to Movie Details/movie_details_15.csv\n",
      "========== PROCESSING BATCH 16 (200 URLs)... ==========\n"
     ]
    },
    {
     "name": "stderr",
     "output_type": "stream",
     "text": [
      "100%|██████████| 200/200 [00:25<00:00,  7.72it/s]\n"
     ]
    },
    {
     "name": "stdout",
     "output_type": "stream",
     "text": [
      "✅ Batch 16 completed: 200 movies saved to Movie Details/movie_details_16.csv\n",
      "========== PROCESSING BATCH 17 (200 URLs)... ==========\n"
     ]
    },
    {
     "name": "stderr",
     "output_type": "stream",
     "text": [
      " 64%|██████▎   | 127/200 [01:10<00:43,  1.68it/s]"
     ]
    },
    {
     "name": "stdout",
     "output_type": "stream",
     "text": [
      "Timeout error for https://www.the-numbers.com/movie/Second-Act-(2018)#tab=summary\n"
     ]
    },
    {
     "name": "stderr",
     "output_type": "stream",
     "text": [
      "100%|██████████| 200/200 [01:58<00:00,  1.68it/s]\n"
     ]
    },
    {
     "name": "stdout",
     "output_type": "stream",
     "text": [
      "✅ Batch 17 completed: 199 movies saved to Movie Details/movie_details_17.csv\n",
      "========== PROCESSING BATCH 18 (200 URLs)... ==========\n"
     ]
    },
    {
     "name": "stderr",
     "output_type": "stream",
     "text": [
      " 94%|█████████▍| 189/200 [02:06<00:07,  1.44it/s]"
     ]
    },
    {
     "name": "stdout",
     "output_type": "stream",
     "text": [
      "Timeout error for https://www.the-numbers.com/movie/Dumbo-(2019)#tab=summary\n"
     ]
    },
    {
     "name": "stderr",
     "output_type": "stream",
     "text": [
      "100%|██████████| 200/200 [02:12<00:00,  1.51it/s]\n"
     ]
    },
    {
     "name": "stdout",
     "output_type": "stream",
     "text": [
      "✅ Batch 18 completed: 199 movies saved to Movie Details/movie_details_18.csv\n",
      "========== PROCESSING BATCH 19 (200 URLs)... ==========\n"
     ]
    },
    {
     "name": "stderr",
     "output_type": "stream",
     "text": [
      " 22%|██▎       | 45/200 [00:54<11:06,  4.30s/it]"
     ]
    },
    {
     "name": "stdout",
     "output_type": "stream",
     "text": [
      "Timeout error for https://www.the-numbers.com/movie/Grudge-The-(2020)#tab=summary\n"
     ]
    },
    {
     "name": "stderr",
     "output_type": "stream",
     "text": [
      " 23%|██▎       | 46/200 [00:58<10:48,  4.21s/it]"
     ]
    },
    {
     "name": "stdout",
     "output_type": "stream",
     "text": [
      "Timeout error for https://www.the-numbers.com/movie/Svaha-The-Sixth-Finger-(2019-South-Korea)#tab=summary\n"
     ]
    },
    {
     "name": "stderr",
     "output_type": "stream",
     "text": [
      " 24%|██▎       | 47/200 [00:59<08:16,  3.25s/it]"
     ]
    },
    {
     "name": "stdout",
     "output_type": "stream",
     "text": [
      "Timeout error for https://www.the-numbers.com/movie/Cheonmun-Modneunda-Doors-to-Heaven-(S-Korea)#tab=summary\n"
     ]
    },
    {
     "name": "stderr",
     "output_type": "stream",
     "text": [
      " 24%|██▍       | 48/200 [01:01<07:17,  2.88s/it]"
     ]
    },
    {
     "name": "stdout",
     "output_type": "stream",
     "text": [
      "Timeout error for https://www.the-numbers.com/movie/Juninin-no-shinitai-kodomotachi-(Japan)-(2019)#tab=summary\n"
     ]
    },
    {
     "name": "stderr",
     "output_type": "stream",
     "text": [
      " 24%|██▍       | 49/200 [01:02<05:49,  2.31s/it]"
     ]
    },
    {
     "name": "stdout",
     "output_type": "stream",
     "text": [
      "Timeout error for https://www.the-numbers.com/movie/Nada-a-Perder-2-(Brazil)#tab=summary\n"
     ]
    },
    {
     "name": "stderr",
     "output_type": "stream",
     "text": [
      " 25%|██▌       | 50/200 [01:03<04:47,  1.92s/it]"
     ]
    },
    {
     "name": "stdout",
     "output_type": "stream",
     "text": [
      "Timeout error for https://www.the-numbers.com/movie/Countdown-(2019)#tab=summary\n"
     ]
    },
    {
     "name": "stderr",
     "output_type": "stream",
     "text": [
      " 26%|██▌       | 51/200 [01:04<04:04,  1.64s/it]"
     ]
    },
    {
     "name": "stdout",
     "output_type": "stream",
     "text": [
      "Timeout error for https://www.the-numbers.com/movie/Dolor-y-gloria-(Spain)-(2019)#tab=summary\n"
     ]
    },
    {
     "name": "stderr",
     "output_type": "stream",
     "text": [
      " 26%|██▌       | 52/200 [01:05<03:35,  1.45s/it]"
     ]
    },
    {
     "name": "stdout",
     "output_type": "stream",
     "text": [
      "Timeout error for https://www.the-numbers.com/movie/Kioku-ni-Gozaimasen-(2019-Japan)#tab=summary\n"
     ]
    },
    {
     "name": "stderr",
     "output_type": "stream",
     "text": [
      " 26%|██▋       | 53/200 [01:06<03:13,  1.32s/it]"
     ]
    },
    {
     "name": "stdout",
     "output_type": "stream",
     "text": [
      "Timeout error for https://www.the-numbers.com/movie/Shaft-(2019)#tab=summary\n"
     ]
    },
    {
     "name": "stderr",
     "output_type": "stream",
     "text": [
      " 27%|██▋       | 54/200 [01:08<03:41,  1.52s/it]"
     ]
    },
    {
     "name": "stdout",
     "output_type": "stream",
     "text": [
      "Timeout error for https://www.the-numbers.com/movie/Fable-The-(Japan)#tab=summary\n"
     ]
    },
    {
     "name": "stderr",
     "output_type": "stream",
     "text": [
      " 40%|███▉      | 79/200 [01:38<02:50,  1.41s/it]"
     ]
    },
    {
     "name": "stdout",
     "output_type": "stream",
     "text": [
      "Timeout error for https://www.the-numbers.com/movie/Shou-yi-ren-(2019-China)#tab=summary\n"
     ]
    },
    {
     "name": "stderr",
     "output_type": "stream",
     "text": [
      " 42%|████▏     | 83/200 [01:40<01:27,  1.34it/s]"
     ]
    },
    {
     "name": "stdout",
     "output_type": "stream",
     "text": [
      "Timeout error for https://www.the-numbers.com/movie/Shang-Hai-Bao-Lei-(China)#tab=summary\n"
     ]
    },
    {
     "name": "stderr",
     "output_type": "stream",
     "text": [
      " 51%|█████     | 102/200 [01:57<01:12,  1.36it/s]"
     ]
    },
    {
     "name": "stdout",
     "output_type": "stream",
     "text": [
      "Timeout error for https://www.the-numbers.com/movie/Charlies-Angels-(2019)#tab=summary\n"
     ]
    },
    {
     "name": "stderr",
     "output_type": "stream",
     "text": [
      " 66%|██████▋   | 133/200 [02:20<01:03,  1.06it/s]"
     ]
    },
    {
     "name": "stdout",
     "output_type": "stream",
     "text": [
      "Timeout error for https://www.the-numbers.com/movie/Nan-Fang-Che-Zhan-De-Ju-Hui-(2019-China)#tab=summary\n"
     ]
    },
    {
     "name": "stderr",
     "output_type": "stream",
     "text": [
      "100%|██████████| 200/200 [02:37<00:00,  1.27it/s]\n"
     ]
    },
    {
     "name": "stdout",
     "output_type": "stream",
     "text": [
      "✅ Batch 19 completed: 186 movies saved to Movie Details/movie_details_19.csv\n",
      "========== PROCESSING BATCH 20 (200 URLs)... ==========\n"
     ]
    },
    {
     "name": "stderr",
     "output_type": "stream",
     "text": [
      "100%|██████████| 200/200 [01:20<00:00,  2.48it/s]\n"
     ]
    },
    {
     "name": "stdout",
     "output_type": "stream",
     "text": [
      "✅ Batch 20 completed: 200 movies saved to Movie Details/movie_details_20.csv\n",
      "========== PROCESSING BATCH 21 (200 URLs)... ==========\n"
     ]
    },
    {
     "name": "stderr",
     "output_type": "stream",
     "text": [
      " 24%|██▍       | 49/200 [00:42<07:34,  3.01s/it]"
     ]
    },
    {
     "name": "stdout",
     "output_type": "stream",
     "text": [
      "Timeout error for https://www.the-numbers.com/movie/Sao-Hei-Xing-Dong-(2022-China)#tab=summary\n"
     ]
    },
    {
     "name": "stderr",
     "output_type": "stream",
     "text": [
      " 30%|███       | 61/200 [00:52<01:44,  1.33it/s]"
     ]
    },
    {
     "name": "stdout",
     "output_type": "stream",
     "text": [
      "Timeout error for https://www.the-numbers.com/movie/Beast-(2022)#tab=summary\n"
     ]
    },
    {
     "name": "stderr",
     "output_type": "stream",
     "text": [
      " 33%|███▎      | 66/200 [00:56<02:02,  1.10it/s]"
     ]
    },
    {
     "name": "stdout",
     "output_type": "stream",
     "text": [
      "Timeout error for https://www.the-numbers.com/movie/Lightyear-(2022)#tab=summary\n"
     ]
    },
    {
     "name": "stderr",
     "output_type": "stream",
     "text": [
      " 56%|█████▌    | 112/200 [01:32<00:33,  2.64it/s]"
     ]
    },
    {
     "name": "stdout",
     "output_type": "stream",
     "text": [
      "Timeout error for https://www.the-numbers.com/movie/Kaiserschmarrndrama-(2020-Germany)#tab=summary\n"
     ]
    },
    {
     "name": "stderr",
     "output_type": "stream",
     "text": [
      " 59%|█████▉    | 118/200 [01:36<00:41,  1.99it/s]"
     ]
    },
    {
     "name": "stdout",
     "output_type": "stream",
     "text": [
      "HTTP 403 for https://www.the-numbers.com/movie/Northman-The#tab=summary\n"
     ]
    },
    {
     "name": "stderr",
     "output_type": "stream",
     "text": [
      "100%|██████████| 200/200 [02:21<00:00,  1.42it/s]\n"
     ]
    },
    {
     "name": "stdout",
     "output_type": "stream",
     "text": [
      "✅ Batch 21 completed: 195 movies saved to Movie Details/movie_details_21.csv\n",
      "========== PROCESSING BATCH 22 (200 URLs)... ==========\n"
     ]
    },
    {
     "name": "stderr",
     "output_type": "stream",
     "text": [
      " 52%|█████▏    | 103/200 [01:02<01:21,  1.19it/s]"
     ]
    },
    {
     "name": "stdout",
     "output_type": "stream",
     "text": [
      "Timeout error for https://www.the-numbers.com/movie/Little-Mermaid-The-(2023)#tab=summary\n"
     ]
    },
    {
     "name": "stderr",
     "output_type": "stream",
     "text": [
      "100%|██████████| 200/200 [02:03<00:00,  1.63it/s]\n"
     ]
    },
    {
     "name": "stdout",
     "output_type": "stream",
     "text": [
      "✅ Batch 22 completed: 199 movies saved to Movie Details/movie_details_22.csv\n",
      "========== PROCESSING BATCH 23 (200 URLs)... ==========\n"
     ]
    },
    {
     "name": "stderr",
     "output_type": "stream",
     "text": [
      " 30%|██▉       | 59/200 [00:40<01:10,  1.99it/s]"
     ]
    },
    {
     "name": "stdout",
     "output_type": "stream",
     "text": [
      "Timeout error for https://www.the-numbers.com/movie/Alien-Romulus-(2024)#tab=summary\n"
     ]
    },
    {
     "name": "stderr",
     "output_type": "stream",
     "text": [
      " 82%|████████▎ | 165/200 [01:55<00:21,  1.64it/s]"
     ]
    },
    {
     "name": "stdout",
     "output_type": "stream",
     "text": [
      "Timeout error for https://www.the-numbers.com/movie/Inside-Out-2-(2024)#tab=summary\n"
     ]
    },
    {
     "name": "stderr",
     "output_type": "stream",
     "text": [
      " 96%|█████████▌| 192/200 [02:21<00:06,  1.18it/s]"
     ]
    },
    {
     "name": "stdout",
     "output_type": "stream",
     "text": [
      "Timeout error for https://www.the-numbers.com/movie/Pig-the-Snake-and-the-Pigeon-The-(2024-Taiwan)#tab=summary\n"
     ]
    },
    {
     "name": "stderr",
     "output_type": "stream",
     "text": [
      "100%|██████████| 200/200 [02:29<00:00,  1.34it/s]\n"
     ]
    },
    {
     "name": "stdout",
     "output_type": "stream",
     "text": [
      "✅ Batch 23 completed: 197 movies saved to Movie Details/movie_details_23.csv\n",
      "========== PROCESSING BATCH 24 (200 URLs)... ==========\n"
     ]
    },
    {
     "name": "stderr",
     "output_type": "stream",
     "text": [
      "  7%|▋         | 14/200 [00:25<07:59,  2.58s/it]"
     ]
    },
    {
     "name": "stdout",
     "output_type": "stream",
     "text": [
      "Timeout error for https://www.the-numbers.com/movie/Frozen-Rage-A-(2024-China)#tab=summary\n"
     ]
    },
    {
     "name": "stderr",
     "output_type": "stream",
     "text": [
      "  8%|▊         | 17/200 [00:30<05:55,  1.94s/it]"
     ]
    },
    {
     "name": "stdout",
     "output_type": "stream",
     "text": [
      "Timeout error for https://www.the-numbers.com/movie/All-About-Suomi-(2024-Japan)#tab=summary\n",
      "Timeout error for https://www.the-numbers.com/movie/Strangers-The-Chapter-2-(2025)#tab=summary\n"
     ]
    },
    {
     "name": "stderr",
     "output_type": "stream",
     "text": [
      " 12%|█▎        | 25/200 [00:41<04:59,  1.71s/it]"
     ]
    },
    {
     "name": "stdout",
     "output_type": "stream",
     "text": [
      "Timeout error for https://www.the-numbers.com/movie/Love-Hurts-(2025)#tab=summary\n"
     ]
    },
    {
     "name": "stderr",
     "output_type": "stream",
     "text": [
      " 14%|█▍        | 29/200 [00:44<02:53,  1.01s/it]"
     ]
    },
    {
     "name": "stdout",
     "output_type": "stream",
     "text": [
      "Timeout error for https://www.the-numbers.com/movie/Legends-of-the-Condor-Heroes-The-Gallants-(2025-China)#tab=summary\n"
     ]
    },
    {
     "name": "stderr",
     "output_type": "stream",
     "text": [
      " 15%|█▌        | 30/200 [00:48<05:22,  1.90s/it]"
     ]
    },
    {
     "name": "stdout",
     "output_type": "stream",
     "text": [
      "Timeout error for https://www.the-numbers.com/movie/Chainsaw-Man-The-Movie-Reze-Arc-(2025-Japan)#tab=summary\n"
     ]
    },
    {
     "name": "stderr",
     "output_type": "stream",
     "text": [
      " 18%|█▊        | 36/200 [01:01<08:01,  2.93s/it]"
     ]
    },
    {
     "name": "stdout",
     "output_type": "stream",
     "text": [
      "Timeout error for https://www.the-numbers.com/movie/Ognivo-(2024-Russia)#tab=summary\n"
     ]
    },
    {
     "name": "stderr",
     "output_type": "stream",
     "text": [
      " 18%|█▊        | 37/200 [01:02<06:23,  2.35s/it]"
     ]
    },
    {
     "name": "stdout",
     "output_type": "stream",
     "text": [
      "Timeout error for https://www.the-numbers.com/movie/Chosen-The-Last-Supper-Part-1-(2025)#tab=summary\n"
     ]
    },
    {
     "name": "stderr",
     "output_type": "stream",
     "text": [
      " 19%|█▉        | 38/200 [01:07<08:29,  3.15s/it]"
     ]
    },
    {
     "name": "stdout",
     "output_type": "stream",
     "text": [
      "Timeout error for https://www.the-numbers.com/movie/Fantastic-Four-The-First-Steps-(2025)#tab=summary\n"
     ]
    },
    {
     "name": "stderr",
     "output_type": "stream",
     "text": [
      " 20%|█▉        | 39/200 [01:09<07:30,  2.80s/it]"
     ]
    },
    {
     "name": "stdout",
     "output_type": "stream",
     "text": [
      "Timeout error for https://www.the-numbers.com/movie/Row-to-Win-(2025-China)#tab=summary\n"
     ]
    },
    {
     "name": "stderr",
     "output_type": "stream",
     "text": [
      " 20%|██        | 40/200 [01:10<06:02,  2.26s/it]"
     ]
    },
    {
     "name": "stdout",
     "output_type": "stream",
     "text": [
      "Timeout error for https://www.the-numbers.com/movie/Mumu-(2025-China)#tab=summary\n"
     ]
    },
    {
     "name": "stderr",
     "output_type": "stream",
     "text": [
      " 20%|██        | 41/200 [01:13<06:35,  2.49s/it]"
     ]
    },
    {
     "name": "stdout",
     "output_type": "stream",
     "text": [
      "Timeout error for https://www.the-numbers.com/movie/Customs-Frontline-(2024-Hong-Kong)#tab=summary\n"
     ]
    },
    {
     "name": "stderr",
     "output_type": "stream",
     "text": [
      " 22%|██▏       | 43/200 [01:15<04:41,  1.79s/it]"
     ]
    },
    {
     "name": "stdout",
     "output_type": "stream",
     "text": [
      "Timeout error for https://www.the-numbers.com/movie/Lord-of-the-Rings-The-The-War-of-the-Rohirrim-(2024)#tab=summary\n"
     ]
    },
    {
     "name": "stderr",
     "output_type": "stream",
     "text": [
      " 22%|██▏       | 44/200 [01:18<05:34,  2.15s/it]"
     ]
    },
    {
     "name": "stdout",
     "output_type": "stream",
     "text": [
      "Timeout error for https://www.the-numbers.com/movie/HOVERING-BLADE-(2024-China)#tab=summary\n"
     ]
    },
    {
     "name": "stderr",
     "output_type": "stream",
     "text": [
      " 22%|██▏       | 44/200 [01:21<04:47,  1.84s/it]"
     ]
    },
    {
     "name": "stdout",
     "output_type": "stream",
     "text": [
      "Timeout error for https://www.the-numbers.com/movie/Conjuring-The-Last-Rites-(2025)#tab=summary\n",
      "Error for https://www.the-numbers.com/movie/Creation-of-the-Gods-II-Demonic-Confrontation-(2025-China)#tab=summary: Session is closed\n",
      "Error for https://www.the-numbers.com/movie/Drop-(2025)#tab=summary: Session is closed\n",
      "Error for https://www.the-numbers.com/movie/Sto-let-tomu-vpered-(2024-Russia)#tab=summary: Session is closed\n",
      "Error for https://www.the-numbers.com/movie/Monkey-The-(2025)#tab=summary: Session is closed\n",
      "Error for https://www.the-numbers.com/movie/Suga-Agust-D-Tour-D-Day-The-Movie-(2024-South-Korea)#tab=summary: Session is closed\n"
     ]
    },
    {
     "name": "stderr",
     "output_type": "stream",
     "text": [
      "\n"
     ]
    },
    {
     "ename": "CancelledError",
     "evalue": "",
     "output_type": "error",
     "traceback": [
      "\u001b[1;31m---------------------------------------------------------------------------\u001b[0m",
      "\u001b[1;31mCancelledError\u001b[0m                            Traceback (most recent call last)",
      "Cell \u001b[1;32mIn[63], line 1\u001b[0m\n\u001b[1;32m----> 1\u001b[0m \u001b[38;5;28;01mawait\u001b[39;00m process_all_batches(urls\u001b[38;5;241m=\u001b[39mlinks_to_scrape)\n",
      "Cell \u001b[1;32mIn[24], line 67\u001b[0m, in \u001b[0;36mprocess_all_batches\u001b[1;34m(urls, start_at)\u001b[0m\n\u001b[0;32m     65\u001b[0m i \u001b[38;5;241m=\u001b[39m (batch_num \u001b[38;5;241m-\u001b[39m \u001b[38;5;241m1\u001b[39m) \u001b[38;5;241m/\u001b[39m\u001b[38;5;241m/\u001b[39m \u001b[38;5;241m2\u001b[39m \u001b[38;5;241m%\u001b[39m \u001b[38;5;28mlen\u001b[39m(HEADERS_LIST)\n\u001b[0;32m     66\u001b[0m header \u001b[38;5;241m=\u001b[39m HEADERS_LIST[i]\n\u001b[1;32m---> 67\u001b[0m processed_count \u001b[38;5;241m=\u001b[39m \u001b[38;5;28;01mawait\u001b[39;00m process_batch_with_error_handling(session, header, batch_urls, batch_num)\n\u001b[0;32m     68\u001b[0m total_processed \u001b[38;5;241m+\u001b[39m\u001b[38;5;241m=\u001b[39m processed_count\n\u001b[0;32m     70\u001b[0m \u001b[38;5;66;03m# Small delay between batches to be nice to the server\u001b[39;00m\n",
      "Cell \u001b[1;32mIn[24], line 6\u001b[0m, in \u001b[0;36mprocess_batch_with_error_handling\u001b[1;34m(session, header, urls, batch_num)\u001b[0m\n\u001b[0;32m      3\u001b[0m \u001b[38;5;28;01mtry\u001b[39;00m:\n\u001b[0;32m      4\u001b[0m   \u001b[38;5;28mprint\u001b[39m(\u001b[38;5;124mf\u001b[39m\u001b[38;5;124m\"\u001b[39m\u001b[38;5;124m========== PROCESSING BATCH \u001b[39m\u001b[38;5;132;01m{\u001b[39;00mbatch_num\u001b[38;5;132;01m:\u001b[39;00m\u001b[38;5;124m02d\u001b[39m\u001b[38;5;132;01m}\u001b[39;00m\u001b[38;5;124m (\u001b[39m\u001b[38;5;132;01m{\u001b[39;00m\u001b[38;5;28mlen\u001b[39m(urls)\u001b[38;5;132;01m}\u001b[39;00m\u001b[38;5;124m URLs)... ==========\u001b[39m\u001b[38;5;124m\"\u001b[39m)\n\u001b[1;32m----> 6\u001b[0m   results \u001b[38;5;241m=\u001b[39m \u001b[38;5;28;01mawait\u001b[39;00m scrape_batch(session, header, urls)\n\u001b[0;32m      8\u001b[0m   \u001b[38;5;66;03m# Keep only non-empty dicts with more than just the link\u001b[39;00m\n\u001b[0;32m      9\u001b[0m   valid_results \u001b[38;5;241m=\u001b[39m []\n",
      "Cell \u001b[1;32mIn[23], line 47\u001b[0m, in \u001b[0;36mscrape_batch\u001b[1;34m(session, header, urls)\u001b[0m\n\u001b[0;32m     45\u001b[0m \u001b[38;5;28;01melse\u001b[39;00m:\n\u001b[0;32m     46\u001b[0m   tasks \u001b[38;5;241m=\u001b[39m [scrape_movie_details_async(session, header, url) \u001b[38;5;28;01mfor\u001b[39;00m url \u001b[38;5;129;01min\u001b[39;00m urls]\n\u001b[1;32m---> 47\u001b[0m   \u001b[38;5;28;01mreturn\u001b[39;00m \u001b[38;5;28;01mawait\u001b[39;00m tqdm\u001b[38;5;241m.\u001b[39mgather(\u001b[38;5;241m*\u001b[39mtasks)\n",
      "File \u001b[1;32mc:\\Users\\hithn\\AppData\\Local\\Programs\\Python\\Python312\\Lib\\site-packages\\tqdm\\asyncio.py:79\u001b[0m, in \u001b[0;36mtqdm_asyncio.gather\u001b[1;34m(cls, loop, timeout, total, *fs, **tqdm_kwargs)\u001b[0m\n\u001b[0;32m     76\u001b[0m     \u001b[38;5;28;01mreturn\u001b[39;00m i, \u001b[38;5;28;01mawait\u001b[39;00m f\n\u001b[0;32m     78\u001b[0m ifs \u001b[38;5;241m=\u001b[39m [wrap_awaitable(i, f) \u001b[38;5;28;01mfor\u001b[39;00m i, f \u001b[38;5;129;01min\u001b[39;00m \u001b[38;5;28menumerate\u001b[39m(fs)]\n\u001b[1;32m---> 79\u001b[0m res \u001b[38;5;241m=\u001b[39m [\u001b[38;5;28;01mawait\u001b[39;00m f \u001b[38;5;28;01mfor\u001b[39;00m f \u001b[38;5;129;01min\u001b[39;00m \u001b[38;5;28mcls\u001b[39m\u001b[38;5;241m.\u001b[39mas_completed(ifs, loop\u001b[38;5;241m=\u001b[39mloop, timeout\u001b[38;5;241m=\u001b[39mtimeout,\n\u001b[0;32m     80\u001b[0m                                          total\u001b[38;5;241m=\u001b[39mtotal, \u001b[38;5;241m*\u001b[39m\u001b[38;5;241m*\u001b[39mtqdm_kwargs)]\n\u001b[0;32m     81\u001b[0m \u001b[38;5;28;01mreturn\u001b[39;00m [i \u001b[38;5;28;01mfor\u001b[39;00m _, i \u001b[38;5;129;01min\u001b[39;00m \u001b[38;5;28msorted\u001b[39m(res)]\n",
      "File \u001b[1;32mc:\\Users\\hithn\\AppData\\Local\\Programs\\Python\\Python312\\Lib\\asyncio\\tasks.py:627\u001b[0m, in \u001b[0;36mas_completed.<locals>._wait_for_one\u001b[1;34m()\u001b[0m\n\u001b[0;32m    626\u001b[0m \u001b[38;5;28;01masync\u001b[39;00m \u001b[38;5;28;01mdef\u001b[39;00m \u001b[38;5;21m_wait_for_one\u001b[39m():\n\u001b[1;32m--> 627\u001b[0m     f \u001b[38;5;241m=\u001b[39m \u001b[38;5;28;01mawait\u001b[39;00m done\u001b[38;5;241m.\u001b[39mget()\n\u001b[0;32m    628\u001b[0m     \u001b[38;5;28;01mif\u001b[39;00m f \u001b[38;5;129;01mis\u001b[39;00m \u001b[38;5;28;01mNone\u001b[39;00m:\n\u001b[0;32m    629\u001b[0m         \u001b[38;5;66;03m# Dummy value from _on_timeout().\u001b[39;00m\n\u001b[0;32m    630\u001b[0m         \u001b[38;5;28;01mraise\u001b[39;00m exceptions\u001b[38;5;241m.\u001b[39mTimeoutError\n",
      "File \u001b[1;32mc:\\Users\\hithn\\AppData\\Local\\Programs\\Python\\Python312\\Lib\\asyncio\\queues.py:158\u001b[0m, in \u001b[0;36mQueue.get\u001b[1;34m(self)\u001b[0m\n\u001b[0;32m    156\u001b[0m \u001b[38;5;28mself\u001b[39m\u001b[38;5;241m.\u001b[39m_getters\u001b[38;5;241m.\u001b[39mappend(getter)\n\u001b[0;32m    157\u001b[0m \u001b[38;5;28;01mtry\u001b[39;00m:\n\u001b[1;32m--> 158\u001b[0m     \u001b[38;5;28;01mawait\u001b[39;00m getter\n\u001b[0;32m    159\u001b[0m \u001b[38;5;28;01mexcept\u001b[39;00m:\n\u001b[0;32m    160\u001b[0m     getter\u001b[38;5;241m.\u001b[39mcancel()  \u001b[38;5;66;03m# Just in case getter is not done yet.\u001b[39;00m\n",
      "\u001b[1;31mCancelledError\u001b[0m: "
     ]
    },
    {
     "name": "stdout",
     "output_type": "stream",
     "text": [
      "Error for https://www.the-numbers.com/movie/Working-Man-A-(2025)#tab=summary: Session is closed\n"
     ]
    },
    {
     "name": "stdout",
     "output_type": "stream",
     "text": [
      "Error for https://www.the-numbers.com/movie/Black-Bag-(2025)#tab=summary: Session is closed\n",
      "Error for https://www.the-numbers.com/movie/Open-Door-The-(2025-China)#tab=summary: Session is closed\n",
      "Error for https://www.the-numbers.com/movie/Day-the-Earth-Blew-Up-The-A-Looney-Tunes-Movie-(2024)#tab=summary: Session is closed\n",
      "Error for https://www.the-numbers.com/movie/Phoenician-Scheme-The-(2025)#tab=summary: Session is closed\n",
      "Error for https://www.the-numbers.com/movie/28-Years-Later-(2025)#tab=summary: Session is closed\n",
      "Error for https://www.the-numbers.com/movie/One-of-Them-Days-(2025)#tab=summary: Session is closed\n",
      "Error for https://www.the-numbers.com/movie/No-Other-Choice-(2025-South-Korea)#tab=summary: Session is closed\n",
      "Error for https://www.the-numbers.com/movie/Chosen-The-Season-4-Episodes-1-through-3-(2024)#tab=summary: Session is closed\n",
      "Error for https://www.the-numbers.com/movie/Mission-Impossible-The-Final-Reckoning-(2025)#tab=summary: Session is closed\n",
      "Error for https://www.the-numbers.com/movie/My-Hero-Academia-the-Movie-Youre-Next-(2024-Japan)#tab=summary: Session is closed\n",
      "Error for https://www.the-numbers.com/movie/Am-I-Racist-(2024)#tab=summary: Session is closed\n",
      "Error for https://www.the-numbers.com/movie/I-Am-What-I-Am-2-(2024-China)#tab=summary: Session is closed\n",
      "Error for https://www.the-numbers.com/movie/Smurfs-(2025)#tab=summary: Session is closed\n",
      "Error for https://www.the-numbers.com/movie/Den-of-Thieves-2-Pantera-(2025)#tab=summary: Session is closed\n",
      "Error for https://www.the-numbers.com/movie/Maxxxine-(2024)#tab=summary: Session is closed\n",
      "Error for https://www.the-numbers.com/movie/Legend-A-(2024-China)#tab=summary: Session is closed\n",
      "Error for https://www.the-numbers.com/movie/Endless-Journey-of-Love-(2025-China)#tab=summary: Session is closed\n",
      "Error for https://www.the-numbers.com/movie/How-to-Train-Your-Dragon-(2025)#tab=summary: Session is closed\n",
      "Error for https://www.the-numbers.com/movie/Hedgehog-The-(2024-China)#tab=summary: Session is closed\n",
      "Error for https://www.the-numbers.com/movie/Crow-The-(2024)#tab=summary: Session is closed\n",
      "Error for https://www.the-numbers.com/movie/I-Know-What-You-Did-Last-Summer-(2025)#tab=summary: Session is closed\n",
      "Error for https://www.the-numbers.com/movie/Jurassic-World-Rebirth-(2025)#tab=summary: Session is closed\n",
      "Error for https://www.the-numbers.com/movie/Legend-of-Hei-2-The-(2025-China)#tab=summary: Session is closed\n",
      "Error for https://www.the-numbers.com/movie/Chosen-The-Last-Supper-Part-1-(2025)#tab=summary: Session is closed\n",
      "Error for https://www.the-numbers.com/movie/Lord-of-the-Rings-The-The-War-of-the-Rohirrim-(2024)#tab=summary: Session is closed\n",
      "Error for https://www.the-numbers.com/movie/Thelma-(2024)#tab=summary: Session is closed\n",
      "Error for https://www.the-numbers.com/movie/Mrs-Green-Apple-The-White-Lounge-in-Cinema-(2024-Japan)#tab=summary: Session is closed\n",
      "Error for https://www.the-numbers.com/movie/Woman-in-the-Yard-The-(2025)#tab=summary: Session is closed\n",
      "Error for https://www.the-numbers.com/movie/Materialists-(2025)#tab=summary: Session is closed\n",
      "Error for https://www.the-numbers.com/movie/Yadang-The-Snitch-(2025-South-Korea)#tab=summary: Session is closed\n",
      "Error for https://www.the-numbers.com/movie/Remember-Me-(2024-China)#tab=summary: Session is closed\n",
      "Error for https://www.the-numbers.com/movie/Victims-The-(2024-China)#tab=summary: Session is closed\n",
      "Error for https://www.the-numbers.com/movie/F1-The-Movie-(2025)#tab=summary: Session is closed\n",
      "Error for https://www.the-numbers.com/movie/Downton-Abbey-The-Grand-Finale-(2025-United-Kingdom)#tab=summary: Session is closed\n",
      "Error for https://www.the-numbers.com/movie/M3GAN-2-0-(2025)#tab=summary: Session is closed\n",
      "Error for https://www.the-numbers.com/movie/Jung-Kook-I-Am-Still-(2024-South-Korea)#tab=summary: Session is closed\n",
      "Error for https://www.the-numbers.com/movie/Muroi-Shinji-Ikitsuzukeru-Mono-(2024-Japan)#tab=summary: Session is closed\n",
      "Error for https://www.the-numbers.com/movie/Kokuho-(2025-Japan)#tab=summary: Session is closed\n",
      "Error for https://www.the-numbers.com/movie/Until-Dawn-(2025)#tab=summary: Session is closed\n",
      "Error for https://www.the-numbers.com/movie/Parthenope-(2024-Italy)#tab=summary: Session is closed\n",
      "Error for https://www.the-numbers.com/movie/King-of-Kings-The-(2025-South-Korea)#tab=summary: Session is closed\n",
      "Error for https://www.the-numbers.com/movie/Ne-Zha-2-(2025-China)#tab=summary: Session is closed\n",
      "Error for https://www.the-numbers.com/movie/Never-Let-Go-(2024)#tab=summary: Session is closed\n",
      "Error for https://www.the-numbers.com/movie/Dog-Man-(2025)#tab=summary: Session is closed\n",
      "Error for https://www.the-numbers.com/movie/Burning-Star-(2024-China)#tab=summary: Session is closed\n",
      "Error for https://www.the-numbers.com/movie/Long-Walk-The-(2025)#tab=summary: Session is closed\n",
      "Error for https://www.the-numbers.com/movie/Maria-(2024-Italy)#tab=summary: Session is closed\n",
      "Error for https://www.the-numbers.com/movie/Freakier-Friday-(2025)#tab=summary: Session is closed\n",
      "Error for https://www.the-numbers.com/movie/Pleasant-Goat-and-Grey-Wolf-9-(2024-China)#tab=summary: Session is closed\n",
      "Error for https://www.the-numbers.com/movie/Chosen-The-Last-Supper-Part-1-(2025)#tab=summary: Session is closed\n",
      "Error for https://www.the-numbers.com/movie/Weapons-(2025)#tab=summary: Session is closed\n",
      "Error for https://www.the-numbers.com/movie/Nobody-(2025-China)#tab=summary: Session is closed\n",
      "Error for https://www.the-numbers.com/movie/Last-Breath-(2025-United-Kingdom)#tab=summary: Session is closed\n",
      "Error for https://www.the-numbers.com/movie/Doraemon-Nobitas-Art-World-Tales-(2025-Japan)#tab=summary: Session is closed\n",
      "Error for https://www.the-numbers.com/movie/Piece-by-Piece-(2024)#tab=summary: Session is closed\n",
      "Error for https://www.the-numbers.com/movie/Article-370-(2024-India)#tab=summary: Session is closed\n",
      "Error for https://www.the-numbers.com/movie/Shadows-Edge-The-(2025-Hong-Kong)#tab=summary: Session is closed\n",
      "Error for https://www.the-numbers.com/movie/Companion-(2025)#tab=summary: Session is closed\n",
      "Error for https://www.the-numbers.com/movie/Sinners-(2025)#tab=summary: Session is closed\n",
      "Error for https://www.the-numbers.com/movie/Adventure-The-(2025-China)#tab=summary: Session is closed\n",
      "Error for https://www.the-numbers.com/movie/Adventure-Island-(2025-China)#tab=summary: Session is closed\n",
      "Error for https://www.the-numbers.com/movie/Lord-of-the-Rings-The-The-War-of-the-Rohirrim-(2024)#tab=summary: Session is closed\n",
      "Error for https://www.the-numbers.com/movie/Dead-To-Rights-(2025-China)#tab=summary: Session is closed\n",
      "Error for https://www.the-numbers.com/movie/Curious-Tales-of-a-Temple-(2025-China)#tab=summary: Session is closed\n",
      "Error for https://www.the-numbers.com/movie/Hitman-2-(2025-South-Korea)#tab=summary: Session is closed\n",
      "Error for https://www.the-numbers.com/movie/Handsome-Guys-(2024-South-Korea)#tab=summary: Session is closed\n",
      "Error for https://www.the-numbers.com/movie/Domovyonok-Kuzya-(2024-Russia)#tab=summary: Session is closed\n",
      "Error for https://www.the-numbers.com/movie/Detective-Chinatown-1900-(2025-China)#tab=summary: Session is closed\n",
      "Error for https://www.the-numbers.com/movie/Volshebnik-Izumrudnogo-goroda-(2025-Russia)#tab=summary: Session is closed\n",
      "Error for https://www.the-numbers.com/movie/Escape-(2024-South-Korea)#tab=summary: Session is closed\n",
      "Error for https://www.the-numbers.com/movie/Sound-of-Hope-The-Story-of-Possum-Trot-(2024)#tab=summary: Session is closed\n",
      "Error for https://www.the-numbers.com/movie/Better-Man-(2024)#tab=summary: Session is closed\n",
      "Error for https://www.the-numbers.com/movie/Land-of-Broken-Hearts-(2024-China)#tab=summary: Session is closed\n",
      "Error for https://www.the-numbers.com/movie/Writers-Odyssey-2-A-(2025-China)#tab=summary: Session is closed\n",
      "Error for https://www.the-numbers.com/movie/Ragazzo-dai-Pantaloni-Rosa-Il-(2024-Italy)#tab=summary: Session is closed\n",
      "Error for https://www.the-numbers.com/movie/Caught-Stealing-(2025)#tab=summary: Session is closed\n",
      "Error for https://www.the-numbers.com/movie/Captain-America-Brave-New-World-(2025)#tab=summary: Session is closed\n",
      "Error for https://www.the-numbers.com/movie/From-the-World-of-John-Wick-Ballerina-(2025)#tab=summary: Session is closed\n",
      "Error for https://www.the-numbers.com/movie/Unseen-Sister-The-(2024-China)#tab=summary: Session is closed\n",
      "Error for https://www.the-numbers.com/movie/Lilo-and-Stitch-(2025)#tab=summary: Session is closed\n",
      "Error for https://www.the-numbers.com/movie/Together-(2025)#tab=summary: Session is closed\n",
      "Error for https://www.the-numbers.com/movie/Bad-Guys-2-The-(2025)#tab=summary: Session is closed\n",
      "Error for https://www.the-numbers.com/movie/Gilded-Game-A-(2025-China)#tab=summary: Session is closed\n",
      "Error for https://www.the-numbers.com/movie/Blue-Lock-The-Movie-Episode-Nagi-(2024-Japan)#tab=summary: Session is closed\n",
      "Error for https://www.the-numbers.com/movie/Chosen-The-Season-4-Episodes-1-through-3-(2024)#tab=summary: Session is closed\n",
      "Error for https://www.the-numbers.com/movie/Hijack-1971-(2024-South-Korea)#tab=summary: Session is closed\n",
      "Error for https://www.the-numbers.com/movie/Superman-(2025)#tab=summary: Session is closed\n",
      "Error for https://www.the-numbers.com/movie/Dongji-Island-(2025-China)#tab=summary: Session is closed\n",
      "Error for https://www.the-numbers.com/movie/Gabbys-Dollhouse-The-Movie-(2025)#tab=summary: Session is closed\n",
      "Error for https://www.the-numbers.com/movie/Sound-of-Silence-(2025-China)#tab=summary: Session is closed\n",
      "Error for https://www.the-numbers.com/movie/Chosen-The-Season-4-Episodes-1-through-3-(2024)#tab=summary: Session is closed\n",
      "Error for https://www.the-numbers.com/movie/Stage-The-(2025-China)#tab=summary: Session is closed\n",
      "Error for https://www.the-numbers.com/movie/Like-A-Rolling-Stone-(2024-China)#tab=summary: Session is closed\n",
      "Error for https://www.the-numbers.com/movie/Megalopolis-(2024)#tab=summary: Session is closed\n",
      "Error for https://www.the-numbers.com/movie/Lyod-3-(2024-Russia)#tab=summary: Session is closed\n",
      "Error for https://www.the-numbers.com/movie/Dumpling-Queen-The-(2025-China)#tab=summary: Session is closed\n",
      "Error for https://www.the-numbers.com/movie/Here-(2024)#tab=summary: Session is closed\n",
      "Error for https://www.the-numbers.com/movie/Ordinary-Angels-(2024)#tab=summary: Session is closed\n",
      "Error for https://www.the-numbers.com/movie/Detective-Conan-One-eyed-Flashback-(2025-Japan)#tab=summary: Session is closed\n",
      "Error for https://www.the-numbers.com/movie/Prorok-Istoriya-Aleksandra-Pushkina-(2024-Russia)#tab=summary: Session is closed\n",
      "Error for https://www.the-numbers.com/movie/Cabrini-(2024)#tab=summary: Session is closed\n",
      "Error for https://www.the-numbers.com/movie/Cells-at-Work-(2024-Japan)#tab=summary: Session is closed\n",
      "Error for https://www.the-numbers.com/movie/Finist-Pervyy-bogatyr-(2025-Russia)#tab=summary: Session is closed\n",
      "Error for https://www.the-numbers.com/movie/Untold-Story-The-(2024-China)#tab=summary: Session is closed\n",
      "Error for https://www.the-numbers.com/movie/Disneys-Snow-White-(2025)#tab=summary: Session is closed\n",
      "Error for https://www.the-numbers.com/movie/We-Girls-(2025-China)#tab=summary: Session is closed\n",
      "Error for https://www.the-numbers.com/movie/Yuanyang-Lou-(2024-China)#tab=summary: Session is closed\n",
      "Error for https://www.the-numbers.com/movie/Smashing-Machine-The-(2025)#tab=summary: Session is closed\n",
      "Error for https://www.the-numbers.com/movie/Volunteers-Peace-at-Last-The-(2025-China)#tab=summary: Session is closed\n",
      "Error for https://www.the-numbers.com/movie/Operation-Hadal-(2025-China)#tab=summary: Session is closed\n",
      "Error for https://www.the-numbers.com/movie/Dwelling-by-the-West-Lake-(2024-China)#tab=summary: Session is closed\n",
      "Error for https://www.the-numbers.com/movie/Infiltrada-La-(2024-Spain)#tab=summary: Session is closed\n",
      "Error for https://www.the-numbers.com/movie/Tron-Ares-(2025)#tab=summary: Session is closed\n",
      "Error for https://www.the-numbers.com/movie/Flight-Risk-(2025)#tab=summary: Session is closed\n",
      "Error for https://www.the-numbers.com/movie/Elio-(2025)#tab=summary: Session is closed\n",
      "Error for https://www.the-numbers.com/movie/Malice-(2025-China)#tab=summary: Session is closed\n",
      "Error for https://www.the-numbers.com/movie/Friendship-(2025)#tab=summary: Session is closed\n",
      "Error for https://www.the-numbers.com/movie/Citizen-of-a-Kind-(2024-South-Korea)#tab=summary: Session is closed\n",
      "Error for https://www.the-numbers.com/movie/Mickey-17-(2025)#tab=summary: Session is closed\n",
      "Error for https://www.the-numbers.com/movie/Diamanti-(2024-Italy)#tab=summary: Session is closed\n",
      "Error for https://www.the-numbers.com/movie/Love-Lies-Bleeding-(2024-United-Kingdom)#tab=summary: Session is closed\n",
      "Error for https://www.the-numbers.com/movie/Nobody-2-(2025)#tab=summary: Session is closed\n",
      "Error for https://www.the-numbers.com/movie/Dernier-Jaguar-Le-(2024-France)#tab=summary: Session is closed\n",
      "Error for https://www.the-numbers.com/movie/Alienoid-The-Return-to-the-Future-(2024-South-Korea)#tab=summary: Session is closed\n",
      "Error for https://www.the-numbers.com/movie/Amateur-The-(2025)#tab=summary: Session is closed\n",
      "Error for https://www.the-numbers.com/movie/Batya-2-Ded-(2025-Russia)#tab=summary: Session is closed\n",
      "Error for https://www.the-numbers.com/movie/Follemente-(2025-Italy)#tab=summary: Session is closed\n",
      "Error for https://www.the-numbers.com/movie/Wolf-Man-(2025)#tab=summary: Session is closed\n",
      "Error for https://www.the-numbers.com/movie/Crisis-Negotiators-(2024-China)#tab=summary: Session is closed\n",
      "Error for https://www.the-numbers.com/movie/Yolki-11-(2024-Russia)#tab=summary: Session is closed\n",
      "Error for https://www.the-numbers.com/movie/Naked-Gun-The-(2025)#tab=summary: Session is closed\n",
      "Error for https://www.the-numbers.com/movie/My-Daughter-is-a-Zombie-(2025-South-Korea)#tab=summary: Session is closed\n",
      "Error for https://www.the-numbers.com/movie/Minecraft-Movie-A-(2025)#tab=summary: Session is closed\n",
      "Error for https://www.the-numbers.com/movie/Taylor-Swift-The-Official-Release-Party-of-a-Showgirl-(2025)#tab=summary: Session is closed\n",
      "Error for https://www.the-numbers.com/movie/Homestead-(2024)#tab=summary: Session is closed\n",
      "Error for https://www.the-numbers.com/movie/Traveller-The-(2024-China)#tab=summary: Session is closed\n",
      "Error for https://www.the-numbers.com/movie/Movie-Emperor-The-(2023-China)#tab=summary: Session is closed\n",
      "Error for https://www.the-numbers.com/movie/Eine-Million-Minuten-(2024-Germany)#tab=summary: Session is closed\n",
      "Error for https://www.the-numbers.com/movie/Shes-Got-No-Name-(2025-China)#tab=summary: Session is closed\n",
      "Error for https://www.the-numbers.com/movie/Follow-Bear-to-Adventure-(2024-China)#tab=summary: Session is closed\n",
      "Error for https://www.the-numbers.com/movie/Padre-No-Hay-Mas-Que-Uno-5-(2025-Spain)#tab=summary: Connector is closed.\n",
      "Error for https://www.the-numbers.com/movie/Heart-Eyes-(2025-New-Zealand)#tab=summary: Connector is closed.\n",
      "Error for https://www.the-numbers.com/movie/Death-of-a-Unicorn-(2025)#tab=summary: Connector is closed.\n",
      "Error for https://www.the-numbers.com/movie/Comte-de-Monte-Cristo-Le-(2024-France)#tab=summary: Connector is closed.\n",
      "Error for https://www.the-numbers.com/movie/Attack-on-Titan-the-Movie-The-Last-Attack-(2024-Japan)#tab=summary: Connector is closed.\n",
      "Error for https://www.the-numbers.com/movie/Kinds-of-Kindness-(2024-Ireland)#tab=summary: Connector is closed.\n",
      "Error for https://www.the-numbers.com/movie/Lee-(2024)#tab=summary: Connector is closed.\n",
      "Error for https://www.the-numbers.com/movie/Maharaja-(2024-India)#tab=summary: Connector is closed.\n",
      "Timeout error for https://www.the-numbers.com/movie/Final-Destination-Bloodlines-(2025)#tab=summary\n"
     ]
    }
   ],
   "source": [
    "await process_all_batches(urls=links_to_scrape)"
   ]
  },
  {
   "cell_type": "markdown",
   "id": "af606253",
   "metadata": {},
   "source": [
    "## Concatenate to one dataframe & Export to csv "
   ]
  },
  {
   "cell_type": "code",
   "execution_count": 102,
   "id": "b6dd4406",
   "metadata": {},
   "outputs": [],
   "source": [
    "import glob\n",
    "\n",
    "def export_all_movie_details():\n",
    "  all_movie_details = [pd.read_csv(file) for file in glob.glob('Movie Details/*.csv')]\n",
    "  global movie_details_df\n",
    "  # Concatenate all series to a dataframe\n",
    "  if all_movie_details:\n",
    "    movie_details_df = pd.concat(all_movie_details, axis=0, ignore_index=True)\n",
    "    move_col = movie_details_df.pop('Release Date')\n",
    "    movie_details_df.insert(1,'Release Date', move_col)\n",
    "    \n",
    "    print(\"DataFrame shape:\", movie_details_df.shape)\n",
    "    print(\"\\nDataFrame columns:\", movie_details_df.columns.tolist())\n",
    "    print(\"\\nDataFrame content:\")\n",
    "  else:\n",
    "    movie_details_df = pd.DataFrame()\n",
    "\n",
    "  movie_details_df.to_csv('movie_details.csv',index=False)"
   ]
  },
  {
   "cell_type": "code",
   "execution_count": 103,
   "id": "a0b8d847",
   "metadata": {},
   "outputs": [
    {
     "name": "stdout",
     "output_type": "stream",
     "text": [
      "DataFrame shape: (4827, 9)\n",
      "\n",
      "DataFrame columns: ['link', 'Release Date', 'Production Budget', 'Running Time', 'Genre', 'Production Method', 'Production/Financing Companies', 'Production Countries', 'Languages']\n",
      "\n",
      "DataFrame content:\n"
     ]
    }
   ],
   "source": [
    "export_all_movie_details()"
   ]
  },
  {
   "cell_type": "markdown",
   "id": "47136cd5",
   "metadata": {},
   "source": [
    "### Re-run timeouts & append to final dataframe:"
   ]
  },
  {
   "cell_type": "code",
   "execution_count": 100,
   "id": "7e7f524f",
   "metadata": {},
   "outputs": [
    {
     "name": "stdout",
     "output_type": "stream",
     "text": [
      "Timeouts: 1 missing movies.\n",
      "Retrying timed out URLs...\n",
      "========== PROCESSING BATCH 92 (1 URLs)... ==========\n"
     ]
    },
    {
     "name": "stderr",
     "output_type": "stream",
     "text": [
      "100%|██████████| 1/1 [00:01<00:00,  1.08s/it]"
     ]
    },
    {
     "name": "stdout",
     "output_type": "stream",
     "text": [
      "HTTP 403 for https://www.the-numbers.com/movie/Northman-The#tab=summary\n",
      "⚠️ Batch 92 completed but no valid data\n"
     ]
    },
    {
     "name": "stderr",
     "output_type": "stream",
     "text": [
      "\n"
     ]
    },
    {
     "ename": "TypeError",
     "evalue": "unsupported operand type(s) for +=: 'int' and 'NoneType'",
     "output_type": "error",
     "traceback": [
      "\u001b[1;31m---------------------------------------------------------------------------\u001b[0m",
      "\u001b[1;31mTypeError\u001b[0m                                 Traceback (most recent call last)",
      "Cell \u001b[1;32mIn[100], line 18\u001b[0m\n\u001b[0;32m     15\u001b[0m     export_all_movie_details()\n\u001b[0;32m     16\u001b[0m     \u001b[38;5;28;01mawait\u001b[39;00m retry_timeouts()\n\u001b[1;32m---> 18\u001b[0m \u001b[38;5;28;01mawait\u001b[39;00m retry_timeouts()\n",
      "Cell \u001b[1;32mIn[100], line 14\u001b[0m, in \u001b[0;36mretry_timeouts\u001b[1;34m()\u001b[0m\n\u001b[0;32m     12\u001b[0m \u001b[38;5;28mprint\u001b[39m(\u001b[38;5;124mf\u001b[39m\u001b[38;5;124m\"\u001b[39m\u001b[38;5;124mTimeouts: \u001b[39m\u001b[38;5;132;01m{\u001b[39;00mtimeouts_df\u001b[38;5;241m.\u001b[39mshape[\u001b[38;5;241m0\u001b[39m]\u001b[38;5;132;01m}\u001b[39;00m\u001b[38;5;124m missing movies.\u001b[39m\u001b[38;5;124m\"\u001b[39m)\n\u001b[0;32m     13\u001b[0m \u001b[38;5;28mprint\u001b[39m(\u001b[38;5;124mf\u001b[39m\u001b[38;5;124m\"\u001b[39m\u001b[38;5;124mRetrying timed out URLs...\u001b[39m\u001b[38;5;124m\"\u001b[39m)\n\u001b[1;32m---> 14\u001b[0m \u001b[38;5;28;01mawait\u001b[39;00m process_all_batches(urls\u001b[38;5;241m=\u001b[39mtimeout_urls, start_at\u001b[38;5;241m=\u001b[39m\u001b[38;5;241m91\u001b[39m)\n\u001b[0;32m     15\u001b[0m export_all_movie_details()\n\u001b[0;32m     16\u001b[0m \u001b[38;5;28;01mawait\u001b[39;00m retry_timeouts()\n",
      "Cell \u001b[1;32mIn[94], line 70\u001b[0m, in \u001b[0;36mprocess_all_batches\u001b[1;34m(urls, start_at)\u001b[0m\n\u001b[0;32m     68\u001b[0m header \u001b[38;5;241m=\u001b[39m HEADERS_LIST[i]\n\u001b[0;32m     69\u001b[0m processed_count \u001b[38;5;241m=\u001b[39m \u001b[38;5;28;01mawait\u001b[39;00m process_batch_with_error_handling(session, header, batch_urls, batch_num)\n\u001b[1;32m---> 70\u001b[0m \u001b[43mtotal_processed\u001b[49m\u001b[43m \u001b[49m\u001b[38;5;241;43m+\u001b[39;49m\u001b[38;5;241;43m=\u001b[39;49m\u001b[43m \u001b[49m\u001b[43mprocessed_count\u001b[49m\n\u001b[0;32m     72\u001b[0m \u001b[38;5;66;03m# Small delay between batches to be nice to the server\u001b[39;00m\n\u001b[0;32m     73\u001b[0m \u001b[38;5;28;01mawait\u001b[39;00m asyncio\u001b[38;5;241m.\u001b[39msleep(\u001b[38;5;241m1\u001b[39m)\n",
      "\u001b[1;31mTypeError\u001b[0m: unsupported operand type(s) for +=: 'int' and 'NoneType'"
     ]
    }
   ],
   "source": [
    "import pandas as pd\n",
    "df_WW_all = pd.read_csv(\"WW_all.csv\")\n",
    "movie_details_df = pd.read_csv(\"movie_details.csv\").dropna(subset=['link'])\n",
    "# Find differences\n",
    "\n",
    "async def retry_timeouts():\n",
    "  timeouts_df = df_WW_all[~df_WW_all['link'].isin(movie_details_df['link'])]\n",
    "  timeout_urls = [timeouts_df['link'].tolist()[x:x+400] for x in range(0, len(timeouts_df), 400)]\n",
    "  if not timeout_urls:\n",
    "    print(\"No more timeouts :D\")\n",
    "  else:\n",
    "    print(f\"Timeouts: {timeouts_df.shape[0]} missing movies.\")\n",
    "    print(f\"Retrying timed out URLs...\")\n",
    "    await process_all_batches(urls=timeout_urls, start_at=91)\n",
    "    export_all_movie_details()\n",
    "    await retry_timeouts()\n",
    "\n",
    "await retry_timeouts()"
   ]
  },
  {
   "cell_type": "markdown",
   "id": "0bd3738c",
   "metadata": {},
   "source": [
    "## Merge to final `df_WW_all`"
   ]
  },
  {
   "cell_type": "code",
   "execution_count": 134,
   "id": "c7870e04",
   "metadata": {},
   "outputs": [
    {
     "name": "stdout",
     "output_type": "stream",
     "text": [
      "<class 'pandas.core.frame.DataFrame'>\n",
      "Index: 4936 entries, 0 to 4935\n",
      "Data columns (total 14 columns):\n",
      " #   Column                    Non-Null Count  Dtype \n",
      "---  ------                    --------------  ----- \n",
      " 0   Year Recorded             4936 non-null   int64 \n",
      " 1   Rank                      4936 non-null   int64 \n",
      " 2   Movie                     4936 non-null   object\n",
      " 3   Worldwide Box Office      4936 non-null   object\n",
      " 4   Domestic Box Office       3575 non-null   object\n",
      " 5   International Box Office  4887 non-null   object\n",
      " 6   Domestic Share            3575 non-null   object\n",
      " 7   Distributor               3448 non-null   object\n",
      " 8   Production Budget         2781 non-null   object\n",
      " 9   Running Time              4571 non-null   object\n",
      " 10  Genre                     4853 non-null   object\n",
      " 11  Production Method         4839 non-null   object\n",
      " 12  Release Date              4778 non-null   object\n",
      " 13  Production Countries      4890 non-null   object\n",
      "dtypes: int64(2), object(12)\n",
      "memory usage: 578.4+ KB\n"
     ]
    }
   ],
   "source": [
    "import pandas as pd\n",
    "import numpy as np\n",
    "\n",
    "df_WW_all = pd.read_csv(\"WW_all.csv\")\n",
    "movie_details_df = pd.read_csv(\"movie_details.csv\").dropna(subset=['link'])\n",
    "# MERGE\n",
    "df = pd.merge(df_WW_all, movie_details_df, on='link', how='right').sort_values(by=['Year Recorded','Rank'])\n",
    "\n",
    "# COMBINE 2 COLUMNS\n",
    "df[\"Distributor_y\"] = np.where(\n",
    "    df[\"Distributor\"].isna() | (df[\"Distributor\"] == \"\"),  # A2 = \"\"\n",
    "    df[\"Production/Financing Companies\"].apply(\n",
    "        lambda x: x.split(\",\")[0].strip() if isinstance(x, str) and \",\" in x else np.nan\n",
    "    ),\n",
    "    np.nan\n",
    ")\n",
    "df[\"Distributor_y\"] = df[\"Distributor_y\"].fillna(df[\"Distributor\"])\n",
    "df = df.drop(columns=['Distributor'])\n",
    "\n",
    "# RENAME\n",
    "df = df.rename(columns={'Distributor_y': 'Distributor',\n",
    "                      'Genre_y': 'Genre',\n",
    "                      'Release Date_y': 'Release Date'})\n",
    "\n",
    "# REORDER\n",
    "df = df[['Year Recorded', 'Rank', 'Movie', 'Worldwide Box Office', 'Domestic Box Office', 'International Box Office', 'Domestic Share', 'Distributor', 'Production Budget', 'Running Time', 'Genre', 'Production Method', 'Release Date', 'Production Countries']]\n",
    "df.to_csv('WW_all_new.csv', index=False)\n",
    "\n",
    "df.info()"
   ]
  }
 ],
 "metadata": {
  "kernelspec": {
   "display_name": "Python 3",
   "language": "python",
   "name": "python3"
  },
  "language_info": {
   "codemirror_mode": {
    "name": "ipython",
    "version": 3
   },
   "file_extension": ".py",
   "mimetype": "text/x-python",
   "name": "python",
   "nbconvert_exporter": "python",
   "pygments_lexer": "ipython3",
   "version": "3.12.3"
  }
 },
 "nbformat": 4,
 "nbformat_minor": 5
}
