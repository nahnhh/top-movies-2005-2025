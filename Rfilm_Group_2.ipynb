{
  "nbformat": 4,
  "nbformat_minor": 0,
  "metadata": {
    "colab": {
      "provenance": [],
      "authorship_tag": "ABX9TyOuKEJq8tzBZKLRcO7/zwvt",
      "include_colab_link": true
    },
    "kernelspec": {
      "name": "ir",
      "display_name": "R"
    },
    "language_info": {
      "name": "R"
    }
  },
  "cells": [
    {
      "cell_type": "markdown",
      "metadata": {
        "id": "view-in-github",
        "colab_type": "text"
      },
      "source": [
        "<a href=\"https://colab.research.google.com/github/nahnhh/top-movies-2005-2025/blob/main/Rfilm_Group_2.ipynb\" target=\"_parent\"><img src=\"https://colab.research.google.com/assets/colab-badge.svg\" alt=\"Open In Colab\"/></a>"
      ]
    },
    {
      "cell_type": "markdown",
      "source": [
        "# Analysis of Top Movies with Highest Worldwide Box Office, 2005-2025\n",
        "by Group 2:\n",
        "- Nguyễn Bá Dương\n",
        "- Lê Nguyễn Trường Giang\n",
        "- Trần Thanh Hải"
      ],
      "metadata": {
        "id": "D5YgT9YIbRCI"
      }
    },
    {
      "cell_type": "code",
      "source": [
        "movies <- read.csv(\"https://raw.githubusercontent.com/nahnhh/top-movies-2005-2025/refs/heads/main/WW_all_new.csv\")\n",
        "tail(movies, 2)"
      ],
      "metadata": {
        "colab": {
          "base_uri": "https://localhost:8080/",
          "height": 511
        },
        "id": "mjRZXlHcbWc7",
        "outputId": "508450ae-9b92-4046-8279-de4f5eaabb65"
      },
      "execution_count": 5,
      "outputs": [
        {
          "output_type": "display_data",
          "data": {
            "text/html": [
              "<table class=\"dataframe\">\n",
              "<caption>A data.frame: 2 × 23</caption>\n",
              "<thead>\n",
              "\t<tr><th></th><th scope=col>Movie</th><th scope=col>link</th><th scope=col>Worldwide.Box.Office</th><th scope=col>Domestic.Box.Office</th><th scope=col>International.Box.Office</th><th scope=col>Domestic.Share</th><th scope=col>Share.Of.Number.One.Market</th><th scope=col>Number.One.Market</th><th scope=col>Release.Date_x</th><th scope=col>Distributor</th><th scope=col>⋯</th><th scope=col>Release.Date_y</th><th scope=col>Running.Time</th><th scope=col>Keywords</th><th scope=col>Source</th><th scope=col>Genre_y</th><th scope=col>Production.Method</th><th scope=col>Creative.Type</th><th scope=col>Production.Financing.Companies</th><th scope=col>Production.Countries</th><th scope=col>Languages</th></tr>\n",
              "\t<tr><th></th><th scope=col>&lt;chr&gt;</th><th scope=col>&lt;chr&gt;</th><th scope=col>&lt;chr&gt;</th><th scope=col>&lt;chr&gt;</th><th scope=col>&lt;chr&gt;</th><th scope=col>&lt;chr&gt;</th><th scope=col>&lt;chr&gt;</th><th scope=col>&lt;chr&gt;</th><th scope=col>&lt;chr&gt;</th><th scope=col>&lt;chr&gt;</th><th scope=col>⋯</th><th scope=col>&lt;chr&gt;</th><th scope=col>&lt;chr&gt;</th><th scope=col>&lt;chr&gt;</th><th scope=col>&lt;chr&gt;</th><th scope=col>&lt;chr&gt;</th><th scope=col>&lt;chr&gt;</th><th scope=col>&lt;chr&gt;</th><th scope=col>&lt;chr&gt;</th><th scope=col>&lt;chr&gt;</th><th scope=col>&lt;chr&gt;</th></tr>\n",
              "</thead>\n",
              "<tbody>\n",
              "\t<tr><th scope=row>4926</th><td>Dracula: A Love Tale</td><td>https://www.the-numbers.com/movie/Dracula-A-Love-Tale-(2025-France)#tab=summary</td><td>$10,092,908 </td><td>           </td><td>$10,092,908 </td><td>      </td><td>87.2%</td><td>Russia (CIS)</td><td>           </td><td>               </td><td>⋯</td><td>30-Jul-25</td><td>129 minutes</td><td>1400s,Romance                                                                                                                                                                                                                                                                                                                                                                                       </td><td>Based on Fiction Book/Short Story</td><td>Horror</td><td>Live Action</td><td>Historical Fiction</td><td>                                        </td><td>France,United Kingdom</td><td>English</td></tr>\n",
              "\t<tr><th scope=row>4927</th><td>The Shape of Water  </td><td>https://www.the-numbers.com/movie/Shape-of-Water-The#tab=summary               </td><td>$195,790,794</td><td>$63,859,435</td><td>$131,931,359</td><td>32.62%</td><td>12.7%</td><td>China       </td><td>Dec 1, 2017</td><td>Fox Searchlight</td><td>⋯</td><td>01-Dec-17</td><td>123 minutes</td><td>1960s,Cold War,Space Program,Escape,Creature Feature,Romance,Interspecies Romance,Retro Black and White,Dream Sequence,Voiceover/Narration,Oscars Best Picture Winner,2018 Oscars Best Picture Nominee,Supernatural,Romantic Drama,Producers Guild of America Best Theatrical Motion Picture Winner,Directors Guild of America Outstanding Directorial Achievement in Theatrical Feature Film Winner</td><td>Original Screenplay              </td><td>Drama </td><td>Live Action</td><td>Historical Fiction</td><td>Double Dare You,Fox Searchlight Pictures</td><td>United States        </td><td>English</td></tr>\n",
              "</tbody>\n",
              "</table>\n"
            ],
            "text/markdown": "\nA data.frame: 2 × 23\n\n| <!--/--> | Movie &lt;chr&gt; | link &lt;chr&gt; | Worldwide.Box.Office &lt;chr&gt; | Domestic.Box.Office &lt;chr&gt; | International.Box.Office &lt;chr&gt; | Domestic.Share &lt;chr&gt; | Share.Of.Number.One.Market &lt;chr&gt; | Number.One.Market &lt;chr&gt; | Release.Date_x &lt;chr&gt; | Distributor &lt;chr&gt; | ⋯ ⋯ | Release.Date_y &lt;chr&gt; | Running.Time &lt;chr&gt; | Keywords &lt;chr&gt; | Source &lt;chr&gt; | Genre_y &lt;chr&gt; | Production.Method &lt;chr&gt; | Creative.Type &lt;chr&gt; | Production.Financing.Companies &lt;chr&gt; | Production.Countries &lt;chr&gt; | Languages &lt;chr&gt; |\n|---|---|---|---|---|---|---|---|---|---|---|---|---|---|---|---|---|---|---|---|---|---|\n| 4926 | Dracula: A Love Tale | https://www.the-numbers.com/movie/Dracula-A-Love-Tale-(2025-France)#tab=summary | $10,092,908  | <!----> | $10,092,908  | <!----> | 87.2% | Russia (CIS) | <!----> | <!----> | ⋯ | 30-Jul-25 | 129 minutes | 1400s,Romance                                                                                                                                                                                                                                                                                                                                                                                        | Based on Fiction Book/Short Story | Horror | Live Action | Historical Fiction | <!----> | France,United Kingdom | English |\n| 4927 | The Shape of Water   | https://www.the-numbers.com/movie/Shape-of-Water-The#tab=summary                | $195,790,794 | $63,859,435 | $131,931,359 | 32.62% | 12.7% | China        | Dec 1, 2017 | Fox Searchlight | ⋯ | 01-Dec-17 | 123 minutes | 1960s,Cold War,Space Program,Escape,Creature Feature,Romance,Interspecies Romance,Retro Black and White,Dream Sequence,Voiceover/Narration,Oscars Best Picture Winner,2018 Oscars Best Picture Nominee,Supernatural,Romantic Drama,Producers Guild of America Best Theatrical Motion Picture Winner,Directors Guild of America Outstanding Directorial Achievement in Theatrical Feature Film Winner | Original Screenplay               | Drama  | Live Action | Historical Fiction | Double Dare You,Fox Searchlight Pictures | United States         | English |\n\n",
            "text/latex": "A data.frame: 2 × 23\n\\begin{tabular}{r|lllllllllllllllllllll}\n  & Movie & link & Worldwide.Box.Office & Domestic.Box.Office & International.Box.Office & Domestic.Share & Share.Of.Number.One.Market & Number.One.Market & Release.Date\\_x & Distributor & ⋯ & Release.Date\\_y & Running.Time & Keywords & Source & Genre\\_y & Production.Method & Creative.Type & Production.Financing.Companies & Production.Countries & Languages\\\\\n  & <chr> & <chr> & <chr> & <chr> & <chr> & <chr> & <chr> & <chr> & <chr> & <chr> & ⋯ & <chr> & <chr> & <chr> & <chr> & <chr> & <chr> & <chr> & <chr> & <chr> & <chr>\\\\\n\\hline\n\t4926 & Dracula: A Love Tale & https://www.the-numbers.com/movie/Dracula-A-Love-Tale-(2025-France)\\#tab=summary & \\$10,092,908  &             & \\$10,092,908  &        & 87.2\\% & Russia (CIS) &             &                 & ⋯ & 30-Jul-25 & 129 minutes & 1400s,Romance                                                                                                                                                                                                                                                                                                                                                                                        & Based on Fiction Book/Short Story & Horror & Live Action & Historical Fiction &                                          & France,United Kingdom & English\\\\\n\t4927 & The Shape of Water   & https://www.the-numbers.com/movie/Shape-of-Water-The\\#tab=summary                & \\$195,790,794 & \\$63,859,435 & \\$131,931,359 & 32.62\\% & 12.7\\% & China        & Dec 1, 2017 & Fox Searchlight & ⋯ & 01-Dec-17 & 123 minutes & 1960s,Cold War,Space Program,Escape,Creature Feature,Romance,Interspecies Romance,Retro Black and White,Dream Sequence,Voiceover/Narration,Oscars Best Picture Winner,2018 Oscars Best Picture Nominee,Supernatural,Romantic Drama,Producers Guild of America Best Theatrical Motion Picture Winner,Directors Guild of America Outstanding Directorial Achievement in Theatrical Feature Film Winner & Original Screenplay               & Drama  & Live Action & Historical Fiction & Double Dare You,Fox Searchlight Pictures & United States         & English\\\\\n\\end{tabular}\n",
            "text/plain": [
              "     Movie               \n",
              "4926 Dracula: A Love Tale\n",
              "4927 The Shape of Water  \n",
              "     link                                                                           \n",
              "4926 https://www.the-numbers.com/movie/Dracula-A-Love-Tale-(2025-France)#tab=summary\n",
              "4927 https://www.the-numbers.com/movie/Shape-of-Water-The#tab=summary               \n",
              "     Worldwide.Box.Office Domestic.Box.Office International.Box.Office\n",
              "4926 $10,092,908                              $10,092,908             \n",
              "4927 $195,790,794         $63,859,435         $131,931,359            \n",
              "     Domestic.Share Share.Of.Number.One.Market Number.One.Market Release.Date_x\n",
              "4926                87.2%                      Russia (CIS)                    \n",
              "4927 32.62%         12.7%                      China             Dec 1, 2017   \n",
              "     Distributor     ⋯ Release.Date_y Running.Time\n",
              "4926                 ⋯ 30-Jul-25      129 minutes \n",
              "4927 Fox Searchlight ⋯ 01-Dec-17      123 minutes \n",
              "     Keywords                                                                                                                                                                                                                                                                                                                                                                                            \n",
              "4926 1400s,Romance                                                                                                                                                                                                                                                                                                                                                                                       \n",
              "4927 1960s,Cold War,Space Program,Escape,Creature Feature,Romance,Interspecies Romance,Retro Black and White,Dream Sequence,Voiceover/Narration,Oscars Best Picture Winner,2018 Oscars Best Picture Nominee,Supernatural,Romantic Drama,Producers Guild of America Best Theatrical Motion Picture Winner,Directors Guild of America Outstanding Directorial Achievement in Theatrical Feature Film Winner\n",
              "     Source                            Genre_y Production.Method\n",
              "4926 Based on Fiction Book/Short Story Horror  Live Action      \n",
              "4927 Original Screenplay               Drama   Live Action      \n",
              "     Creative.Type      Production.Financing.Companies          \n",
              "4926 Historical Fiction                                         \n",
              "4927 Historical Fiction Double Dare You,Fox Searchlight Pictures\n",
              "     Production.Countries  Languages\n",
              "4926 France,United Kingdom English  \n",
              "4927 United States         English  "
            ]
          },
          "metadata": {}
        }
      ]
    },
    {
      "cell_type": "code",
      "source": [
        "attach(movies) # để lấy tên cột = object"
      ],
      "metadata": {
        "id": "Wzot2pz1r-VG"
      },
      "execution_count": null,
      "outputs": []
    },
    {
      "cell_type": "code",
      "source": [
        "summary(movies)"
      ],
      "metadata": {
        "id": "rtH0ANA1s6SX",
        "outputId": "38f37513-8834-4252-d628-4dc2bd9b5449",
        "colab": {
          "base_uri": "https://localhost:8080/",
          "height": 868
        }
      },
      "execution_count": 7,
      "outputs": [
        {
          "output_type": "display_data",
          "data": {
            "text/plain": [
              "    Movie               link           Worldwide.Box.Office Domestic.Box.Office\n",
              " Length:4927        Length:4927        Length:4927          Length:4927        \n",
              " Class :character   Class :character   Class :character     Class :character   \n",
              " Mode  :character   Mode  :character   Mode  :character     Mode  :character   \n",
              "                                                                               \n",
              "                                                                               \n",
              "                                                                               \n",
              " International.Box.Office Domestic.Share     Share.Of.Number.One.Market\n",
              " Length:4927              Length:4927        Length:4927               \n",
              " Class :character         Class :character   Class :character          \n",
              " Mode  :character         Mode  :character   Mode  :character          \n",
              "                                                                       \n",
              "                                                                       \n",
              "                                                                       \n",
              " Number.One.Market  Release.Date_x     Distributor          Genre_x         \n",
              " Length:4927        Length:4927        Length:4927        Length:4927       \n",
              " Class :character   Class :character   Class :character   Class :character  \n",
              " Mode  :character   Mode  :character   Mode  :character   Mode  :character  \n",
              "                                                                            \n",
              "                                                                            \n",
              "                                                                            \n",
              "      Rank       Year.Recorded  Release.Date_y     Running.Time      \n",
              " Min.   :  1.0   Min.   :2005   Length:4927        Length:4927       \n",
              " 1st Qu.: 57.0   1st Qu.:2010   Class :character   Class :character  \n",
              " Median :114.0   Median :2015   Mode  :character   Mode  :character  \n",
              " Mean   :121.5   Mean   :2015                                        \n",
              " 3rd Qu.:178.0   3rd Qu.:2019                                        \n",
              " Max.   :325.0   Max.   :2025                                        \n",
              "   Keywords            Source            Genre_y          Production.Method \n",
              " Length:4927        Length:4927        Length:4927        Length:4927       \n",
              " Class :character   Class :character   Class :character   Class :character  \n",
              " Mode  :character   Mode  :character   Mode  :character   Mode  :character  \n",
              "                                                                            \n",
              "                                                                            \n",
              "                                                                            \n",
              " Creative.Type      Production.Financing.Companies Production.Countries\n",
              " Length:4927        Length:4927                    Length:4927         \n",
              " Class :character   Class :character               Class :character    \n",
              " Mode  :character   Mode  :character               Mode  :character    \n",
              "                                                                       \n",
              "                                                                       \n",
              "                                                                       \n",
              "  Languages        \n",
              " Length:4927       \n",
              " Class :character  \n",
              " Mode  :character  \n",
              "                   \n",
              "                   \n",
              "                   "
            ]
          },
          "metadata": {}
        }
      ]
    }
  ]
}