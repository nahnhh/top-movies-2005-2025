{
  "nbformat": 4,
  "nbformat_minor": 0,
  "metadata": {
    "colab": {
      "provenance": [],
      "authorship_tag": "ABX9TyOuKEJq8tzBZKLRcO7/zwvt",
      "include_colab_link": true
    },
    "kernelspec": {
      "name": "ir",
      "display_name": "R"
    },
    "language_info": {
      "name": "R"
    }
  },
  "cells": [
    {
      "cell_type": "markdown",
      "metadata": {
        "id": "view-in-github",
        "colab_type": "text"
      },
      "source": [
        "<a href=\"https://colab.research.google.com/github/nahnhh/top-movies-2005-2025/blob/main/Rfilm_Group_2.ipynb\" target=\"_parent\"><img src=\"https://colab.research.google.com/assets/colab-badge.svg\" alt=\"Open In Colab\"/></a>"
      ]
    },
    {
      "cell_type": "markdown",
      "source": [
        "# Analysis of Top Movies with Highest Worldwide Box Office, 2005-2025\n",
        "by Group 2:\n",
        "- Nguyễn Bá Dương\n",
        "- Lê Nguyễn Trường Giang\n",
        "- Trần Thanh Hải"
      ],
      "metadata": {
        "id": "D5YgT9YIbRCI"
      }
    },
    {
      "cell_type": "code",
      "source": [
        "movies <- read.csv(\"https://raw.githubusercontent.com/nahnhh/top-movies-2005-2025/refs/heads/main/WW_all_new.csv\")\n",
        "tail(movies, 2)"
      ],
      "metadata": {
        "colab": {
          "base_uri": "https://localhost:8080/",
          "height": 337
        },
        "id": "mjRZXlHcbWc7",
        "outputId": "0a789192-1eed-446d-be07-961c9b7eaec1"
      },
      "execution_count": 2,
      "outputs": [
        {
          "output_type": "display_data",
          "data": {
            "text/html": [
              "<table class=\"dataframe\">\n",
              "<caption>A data.frame: 2 × 24</caption>\n",
              "<thead>\n",
              "\t<tr><th></th><th scope=col>X</th><th scope=col>Movie</th><th scope=col>link</th><th scope=col>Worldwide.Box.Office</th><th scope=col>Domestic.Box.Office</th><th scope=col>International.Box.Office</th><th scope=col>Domestic.Share</th><th scope=col>Share.Of.Number.One.Market</th><th scope=col>Number.One.Market</th><th scope=col>Release.Date_x</th><th scope=col>⋯</th><th scope=col>Release.Date_y</th><th scope=col>Running.Time</th><th scope=col>Keywords</th><th scope=col>Source</th><th scope=col>Genre_y</th><th scope=col>Production.Method</th><th scope=col>Creative.Type</th><th scope=col>Production.Financing.Companies</th><th scope=col>Production.Countries</th><th scope=col>Languages</th></tr>\n",
              "\t<tr><th></th><th scope=col>&lt;int&gt;</th><th scope=col>&lt;chr&gt;</th><th scope=col>&lt;chr&gt;</th><th scope=col>&lt;chr&gt;</th><th scope=col>&lt;chr&gt;</th><th scope=col>&lt;chr&gt;</th><th scope=col>&lt;chr&gt;</th><th scope=col>&lt;chr&gt;</th><th scope=col>&lt;chr&gt;</th><th scope=col>&lt;chr&gt;</th><th scope=col>⋯</th><th scope=col>&lt;chr&gt;</th><th scope=col>&lt;chr&gt;</th><th scope=col>&lt;chr&gt;</th><th scope=col>&lt;chr&gt;</th><th scope=col>&lt;chr&gt;</th><th scope=col>&lt;chr&gt;</th><th scope=col>&lt;chr&gt;</th><th scope=col>&lt;chr&gt;</th><th scope=col>&lt;chr&gt;</th><th scope=col>&lt;chr&gt;</th></tr>\n",
              "</thead>\n",
              "<tbody>\n",
              "\t<tr><th scope=row>4925</th><td>4924</td><td>Na derevnyu dedushke (На деревню дедушке)…</td><td>https://www.the-numbers.com/movie/Na-derevnyu-dedushke-(2025-Russia)#tab=summary</td><td>$10,124,608</td><td></td><td>$10,124,608</td><td></td><td>100.0%</td><td>Russia (CIS)</td><td></td><td>⋯</td><td>June 12, 2025</td><td>           </td><td>             </td><td>Original Screenplay              </td><td>Comedy</td><td>Live Action</td><td>Contemporary Fiction</td><td></td><td>Russian Federation   </td><td>Russian</td></tr>\n",
              "\t<tr><th scope=row>4926</th><td>4925</td><td>Dracula: A Love Tale                      </td><td>https://www.the-numbers.com/movie/Dracula-A-Love-Tale-(2025-France)#tab=summary </td><td>$10,092,908</td><td></td><td>$10,092,908</td><td></td><td>87.2% </td><td>Russia (CIS)</td><td></td><td>⋯</td><td>July 30, 2025</td><td>129 minutes</td><td>1400s,Romance</td><td>Based on Fiction Book/Short Story</td><td>Horror</td><td>Live Action</td><td>Historical Fiction  </td><td></td><td>France,United Kingdom</td><td>English</td></tr>\n",
              "</tbody>\n",
              "</table>\n"
            ],
            "text/markdown": "\nA data.frame: 2 × 24\n\n| <!--/--> | X &lt;int&gt; | Movie &lt;chr&gt; | link &lt;chr&gt; | Worldwide.Box.Office &lt;chr&gt; | Domestic.Box.Office &lt;chr&gt; | International.Box.Office &lt;chr&gt; | Domestic.Share &lt;chr&gt; | Share.Of.Number.One.Market &lt;chr&gt; | Number.One.Market &lt;chr&gt; | Release.Date_x &lt;chr&gt; | ⋯ ⋯ | Release.Date_y &lt;chr&gt; | Running.Time &lt;chr&gt; | Keywords &lt;chr&gt; | Source &lt;chr&gt; | Genre_y &lt;chr&gt; | Production.Method &lt;chr&gt; | Creative.Type &lt;chr&gt; | Production.Financing.Companies &lt;chr&gt; | Production.Countries &lt;chr&gt; | Languages &lt;chr&gt; |\n|---|---|---|---|---|---|---|---|---|---|---|---|---|---|---|---|---|---|---|---|---|---|\n| 4925 | 4924 | Na derevnyu dedushke (На деревню дедушке)… | https://www.the-numbers.com/movie/Na-derevnyu-dedushke-(2025-Russia)#tab=summary | $10,124,608 | <!----> | $10,124,608 | <!----> | 100.0% | Russia (CIS) | <!----> | ⋯ | June 12, 2025 | <!----> | <!----> | Original Screenplay               | Comedy | Live Action | Contemporary Fiction | <!----> | Russian Federation    | Russian |\n| 4926 | 4925 | Dracula: A Love Tale                       | https://www.the-numbers.com/movie/Dracula-A-Love-Tale-(2025-France)#tab=summary  | $10,092,908 | <!----> | $10,092,908 | <!----> | 87.2%  | Russia (CIS) | <!----> | ⋯ | July 30, 2025 | 129 minutes | 1400s,Romance | Based on Fiction Book/Short Story | Horror | Live Action | Historical Fiction   | <!----> | France,United Kingdom | English |\n\n",
            "text/latex": "A data.frame: 2 × 24\n\\begin{tabular}{r|lllllllllllllllllllll}\n  & X & Movie & link & Worldwide.Box.Office & Domestic.Box.Office & International.Box.Office & Domestic.Share & Share.Of.Number.One.Market & Number.One.Market & Release.Date\\_x & ⋯ & Release.Date\\_y & Running.Time & Keywords & Source & Genre\\_y & Production.Method & Creative.Type & Production.Financing.Companies & Production.Countries & Languages\\\\\n  & <int> & <chr> & <chr> & <chr> & <chr> & <chr> & <chr> & <chr> & <chr> & <chr> & ⋯ & <chr> & <chr> & <chr> & <chr> & <chr> & <chr> & <chr> & <chr> & <chr> & <chr>\\\\\n\\hline\n\t4925 & 4924 & Na derevnyu dedushke (На деревню дедушке)… & https://www.the-numbers.com/movie/Na-derevnyu-dedushke-(2025-Russia)\\#tab=summary & \\$10,124,608 &  & \\$10,124,608 &  & 100.0\\% & Russia (CIS) &  & ⋯ & June 12, 2025 &             &               & Original Screenplay               & Comedy & Live Action & Contemporary Fiction &  & Russian Federation    & Russian\\\\\n\t4926 & 4925 & Dracula: A Love Tale                       & https://www.the-numbers.com/movie/Dracula-A-Love-Tale-(2025-France)\\#tab=summary  & \\$10,092,908 &  & \\$10,092,908 &  & 87.2\\%  & Russia (CIS) &  & ⋯ & July 30, 2025 & 129 minutes & 1400s,Romance & Based on Fiction Book/Short Story & Horror & Live Action & Historical Fiction   &  & France,United Kingdom & English\\\\\n\\end{tabular}\n",
            "text/plain": [
              "     X    Movie                                     \n",
              "4925 4924 Na derevnyu dedushke (На деревню дедушке)…\n",
              "4926 4925 Dracula: A Love Tale                      \n",
              "     link                                                                            \n",
              "4925 https://www.the-numbers.com/movie/Na-derevnyu-dedushke-(2025-Russia)#tab=summary\n",
              "4926 https://www.the-numbers.com/movie/Dracula-A-Love-Tale-(2025-France)#tab=summary \n",
              "     Worldwide.Box.Office Domestic.Box.Office International.Box.Office\n",
              "4925 $10,124,608                              $10,124,608             \n",
              "4926 $10,092,908                              $10,092,908             \n",
              "     Domestic.Share Share.Of.Number.One.Market Number.One.Market Release.Date_x\n",
              "4925                100.0%                     Russia (CIS)                    \n",
              "4926                87.2%                      Russia (CIS)                    \n",
              "     ⋯ Release.Date_y Running.Time Keywords     \n",
              "4925 ⋯ June 12, 2025                            \n",
              "4926 ⋯ July 30, 2025  129 minutes  1400s,Romance\n",
              "     Source                            Genre_y Production.Method\n",
              "4925 Original Screenplay               Comedy  Live Action      \n",
              "4926 Based on Fiction Book/Short Story Horror  Live Action      \n",
              "     Creative.Type        Production.Financing.Companies Production.Countries \n",
              "4925 Contemporary Fiction                                Russian Federation   \n",
              "4926 Historical Fiction                                  France,United Kingdom\n",
              "     Languages\n",
              "4925 Russian  \n",
              "4926 English  "
            ]
          },
          "metadata": {}
        }
      ]
    },
    {
      "cell_type": "code",
      "source": [
        "attach(movies) # để lấy tên cột = object"
      ],
      "metadata": {
        "id": "Wzot2pz1r-VG"
      },
      "execution_count": 3,
      "outputs": []
    },
    {
      "cell_type": "code",
      "source": [
        "summary(movies)"
      ],
      "metadata": {
        "id": "rtH0ANA1s6SX",
        "outputId": "381c808e-3bb5-441d-d1e0-ebf28f08dc7b",
        "colab": {
          "base_uri": "https://localhost:8080/",
          "height": 868
        }
      },
      "execution_count": 4,
      "outputs": [
        {
          "output_type": "display_data",
          "data": {
            "text/plain": [
              "       X           Movie               link           Worldwide.Box.Office\n",
              " Min.   :   0   Length:4926        Length:4926        Length:4926         \n",
              " 1st Qu.:1231   Class :character   Class :character   Class :character    \n",
              " Median :2462   Mode  :character   Mode  :character   Mode  :character    \n",
              " Mean   :2462                                                             \n",
              " 3rd Qu.:3694                                                             \n",
              " Max.   :4925                                                             \n",
              " Domestic.Box.Office International.Box.Office Domestic.Share    \n",
              " Length:4926         Length:4926              Length:4926       \n",
              " Class :character    Class :character         Class :character  \n",
              " Mode  :character    Mode  :character         Mode  :character  \n",
              "                                                                \n",
              "                                                                \n",
              "                                                                \n",
              " Share.Of.Number.One.Market Number.One.Market  Release.Date_x    \n",
              " Length:4926                Length:4926        Length:4926       \n",
              " Class :character           Class :character   Class :character  \n",
              " Mode  :character           Mode  :character   Mode  :character  \n",
              "                                                                 \n",
              "                                                                 \n",
              "                                                                 \n",
              " Distributor          Genre_x               Rank       Year.Recorded \n",
              " Length:4926        Length:4926        Min.   :  1.0   Min.   :2005  \n",
              " Class :character   Class :character   1st Qu.: 57.0   1st Qu.:2010  \n",
              " Mode  :character   Mode  :character   Median :114.0   Median :2015  \n",
              "                                       Mean   :121.6   Mean   :2015  \n",
              "                                       3rd Qu.:178.0   3rd Qu.:2019  \n",
              "                                       Max.   :325.0   Max.   :2025  \n",
              " Release.Date_y     Running.Time         Keywords            Source         \n",
              " Length:4926        Length:4926        Length:4926        Length:4926       \n",
              " Class :character   Class :character   Class :character   Class :character  \n",
              " Mode  :character   Mode  :character   Mode  :character   Mode  :character  \n",
              "                                                                            \n",
              "                                                                            \n",
              "                                                                            \n",
              "   Genre_y          Production.Method  Creative.Type     \n",
              " Length:4926        Length:4926        Length:4926       \n",
              " Class :character   Class :character   Class :character  \n",
              " Mode  :character   Mode  :character   Mode  :character  \n",
              "                                                         \n",
              "                                                         \n",
              "                                                         \n",
              " Production.Financing.Companies Production.Countries  Languages        \n",
              " Length:4926                    Length:4926          Length:4926       \n",
              " Class :character               Class :character     Class :character  \n",
              " Mode  :character               Mode  :character     Mode  :character  \n",
              "                                                                       \n",
              "                                                                       \n",
              "                                                                       "
            ]
          },
          "metadata": {}
        }
      ]
    }
  ]
}