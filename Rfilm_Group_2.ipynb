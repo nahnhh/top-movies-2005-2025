{
  "nbformat": 4,
  "nbformat_minor": 0,
  "metadata": {
    "colab": {
      "provenance": [],
      "authorship_tag": "ABX9TyPVnkVYlCkoe3vvSStEy86g",
      "include_colab_link": true
    },
    "kernelspec": {
      "name": "ir",
      "display_name": "R"
    },
    "language_info": {
      "name": "R"
    }
  },
  "cells": [
    {
      "cell_type": "markdown",
      "metadata": {
        "id": "view-in-github",
        "colab_type": "text"
      },
      "source": [
        "<a href=\"https://colab.research.google.com/github/nahnhh/top-movies-2005-2025/blob/main/Rfilm_Group_2.ipynb\" target=\"_parent\"><img src=\"https://colab.research.google.com/assets/colab-badge.svg\" alt=\"Open In Colab\"/></a>"
      ]
    },
    {
      "cell_type": "markdown",
      "source": [
        "# Analysis of Top Movies with Highest Worldwide Box Office, 2005-2025\n",
        "by Group 2:\n",
        "- Nguyễn Bá Dương\n",
        "- Lê Nguyễn Trường Giang\n",
        "- Trần Thanh Hải"
      ],
      "metadata": {
        "id": "D5YgT9YIbRCI"
      }
    },
    {
      "cell_type": "code",
      "source": [
        "movies <- read.csv(\"https://raw.githubusercontent.com/nahnhh/top-movies-2005-2025/refs/heads/main/WW_all.csv\")\n",
        "tail(movies, 2)"
      ],
      "metadata": {
        "colab": {
          "base_uri": "https://localhost:8080/",
          "height": 302
        },
        "id": "mjRZXlHcbWc7",
        "outputId": "e259a69c-3453-4790-a3e5-73f3e610bdec"
      },
      "execution_count": 14,
      "outputs": [
        {
          "output_type": "display_data",
          "data": {
            "text/html": [
              "<table class=\"dataframe\">\n",
              "<caption>A data.frame: 2 × 13</caption>\n",
              "<thead>\n",
              "\t<tr><th></th><th scope=col>Movie</th><th scope=col>link</th><th scope=col>Worldwide.Box.Office</th><th scope=col>Domestic.Box.Office</th><th scope=col>International.Box.Office</th><th scope=col>Domestic.Share</th><th scope=col>Share.Of.Number.One.Market</th><th scope=col>Number.One.Market</th><th scope=col>Release.Date</th><th scope=col>Distributor</th><th scope=col>Genre</th><th scope=col>Rank</th><th scope=col>Year.Recorded</th></tr>\n",
              "\t<tr><th></th><th scope=col>&lt;chr&gt;</th><th scope=col>&lt;chr&gt;</th><th scope=col>&lt;chr&gt;</th><th scope=col>&lt;chr&gt;</th><th scope=col>&lt;chr&gt;</th><th scope=col>&lt;chr&gt;</th><th scope=col>&lt;chr&gt;</th><th scope=col>&lt;chr&gt;</th><th scope=col>&lt;chr&gt;</th><th scope=col>&lt;chr&gt;</th><th scope=col>&lt;chr&gt;</th><th scope=col>&lt;int&gt;</th><th scope=col>&lt;int&gt;</th></tr>\n",
              "</thead>\n",
              "<tbody>\n",
              "\t<tr><th scope=row>4828</th><td>Dracula: A Love Tale   </td><td>https://www.the-numbers.com/movie/Dracula-A-Love-Tale-(2025-France)#tab=summary</td><td>$10,092,908</td><td></td><td>$10,092,908</td><td></td><td>87.2%</td><td>Russia (CIS)</td><td></td><td></td><td></td><td>140</td><td>2025</td></tr>\n",
              "\t<tr><th scope=row>4829</th><td>Red Silk (Красный шелк)</td><td>https://www.the-numbers.com/movie/Red-Silk-(2025-Russia)#tab=summary           </td><td>$10,016,598</td><td></td><td>$10,016,598</td><td></td><td>82.4%</td><td>Russia (CIS)</td><td></td><td></td><td></td><td>141</td><td>2025</td></tr>\n",
              "</tbody>\n",
              "</table>\n"
            ],
            "text/markdown": "\nA data.frame: 2 × 13\n\n| <!--/--> | Movie &lt;chr&gt; | link &lt;chr&gt; | Worldwide.Box.Office &lt;chr&gt; | Domestic.Box.Office &lt;chr&gt; | International.Box.Office &lt;chr&gt; | Domestic.Share &lt;chr&gt; | Share.Of.Number.One.Market &lt;chr&gt; | Number.One.Market &lt;chr&gt; | Release.Date &lt;chr&gt; | Distributor &lt;chr&gt; | Genre &lt;chr&gt; | Rank &lt;int&gt; | Year.Recorded &lt;int&gt; |\n|---|---|---|---|---|---|---|---|---|---|---|---|---|---|\n| 4828 | Dracula: A Love Tale    | https://www.the-numbers.com/movie/Dracula-A-Love-Tale-(2025-France)#tab=summary | $10,092,908 | <!----> | $10,092,908 | <!----> | 87.2% | Russia (CIS) | <!----> | <!----> | <!----> | 140 | 2025 |\n| 4829 | Red Silk (Красный шелк) | https://www.the-numbers.com/movie/Red-Silk-(2025-Russia)#tab=summary            | $10,016,598 | <!----> | $10,016,598 | <!----> | 82.4% | Russia (CIS) | <!----> | <!----> | <!----> | 141 | 2025 |\n\n",
            "text/latex": "A data.frame: 2 × 13\n\\begin{tabular}{r|lllllllllllll}\n  & Movie & link & Worldwide.Box.Office & Domestic.Box.Office & International.Box.Office & Domestic.Share & Share.Of.Number.One.Market & Number.One.Market & Release.Date & Distributor & Genre & Rank & Year.Recorded\\\\\n  & <chr> & <chr> & <chr> & <chr> & <chr> & <chr> & <chr> & <chr> & <chr> & <chr> & <chr> & <int> & <int>\\\\\n\\hline\n\t4828 & Dracula: A Love Tale    & https://www.the-numbers.com/movie/Dracula-A-Love-Tale-(2025-France)\\#tab=summary & \\$10,092,908 &  & \\$10,092,908 &  & 87.2\\% & Russia (CIS) &  &  &  & 140 & 2025\\\\\n\t4829 & Red Silk (Красный шелк) & https://www.the-numbers.com/movie/Red-Silk-(2025-Russia)\\#tab=summary            & \\$10,016,598 &  & \\$10,016,598 &  & 82.4\\% & Russia (CIS) &  &  &  & 141 & 2025\\\\\n\\end{tabular}\n",
            "text/plain": [
              "     Movie                  \n",
              "4828 Dracula: A Love Tale   \n",
              "4829 Red Silk (Красный шелк)\n",
              "     link                                                                           \n",
              "4828 https://www.the-numbers.com/movie/Dracula-A-Love-Tale-(2025-France)#tab=summary\n",
              "4829 https://www.the-numbers.com/movie/Red-Silk-(2025-Russia)#tab=summary           \n",
              "     Worldwide.Box.Office Domestic.Box.Office International.Box.Office\n",
              "4828 $10,092,908                              $10,092,908             \n",
              "4829 $10,016,598                              $10,016,598             \n",
              "     Domestic.Share Share.Of.Number.One.Market Number.One.Market Release.Date\n",
              "4828                87.2%                      Russia (CIS)                  \n",
              "4829                82.4%                      Russia (CIS)                  \n",
              "     Distributor Genre Rank Year.Recorded\n",
              "4828                   140  2025         \n",
              "4829                   141  2025         "
            ]
          },
          "metadata": {}
        }
      ]
    },
    {
      "cell_type": "code",
      "source": [
        "attach(movies) # để lấy tên cột = object"
      ],
      "metadata": {
        "id": "Wzot2pz1r-VG"
      },
      "execution_count": null,
      "outputs": []
    },
    {
      "cell_type": "code",
      "source": [
        "summary(movies)"
      ],
      "metadata": {
        "id": "rtH0ANA1s6SX",
        "outputId": "5e89e316-493c-4ff4-f1aa-0d986ee2c4e8",
        "colab": {
          "base_uri": "https://localhost:8080/",
          "height": 503
        }
      },
      "execution_count": 16,
      "outputs": [
        {
          "output_type": "display_data",
          "data": {
            "text/plain": [
              "    Movie               link           Worldwide.Box.Office Domestic.Box.Office\n",
              " Length:4829        Length:4829        Length:4829          Length:4829        \n",
              " Class :character   Class :character   Class :character     Class :character   \n",
              " Mode  :character   Mode  :character   Mode  :character     Mode  :character   \n",
              "                                                                               \n",
              "                                                                               \n",
              "                                                                               \n",
              " International.Box.Office Domestic.Share     Share.Of.Number.One.Market\n",
              " Length:4829              Length:4829        Length:4829               \n",
              " Class :character         Class :character   Class :character          \n",
              " Mode  :character         Mode  :character   Mode  :character          \n",
              "                                                                       \n",
              "                                                                       \n",
              "                                                                       \n",
              " Number.One.Market  Release.Date       Distributor           Genre          \n",
              " Length:4829        Length:4829        Length:4829        Length:4829       \n",
              " Class :character   Class :character   Class :character   Class :character  \n",
              " Mode  :character   Mode  :character   Mode  :character   Mode  :character  \n",
              "                                                                            \n",
              "                                                                            \n",
              "                                                                            \n",
              "      Rank       Year.Recorded \n",
              " Min.   :  1.0   Min.   :2005  \n",
              " 1st Qu.: 57.0   1st Qu.:2010  \n",
              " Median :115.0   Median :2015  \n",
              " Mean   :121.8   Mean   :2015  \n",
              " 3rd Qu.:178.0   3rd Qu.:2019  \n",
              " Max.   :325.0   Max.   :2025  "
            ]
          },
          "metadata": {}
        }
      ]
    }
  ]
}