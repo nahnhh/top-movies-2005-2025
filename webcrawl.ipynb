{
 "cells": [
  {
   "cell_type": "markdown",
   "id": "2642c6d5",
   "metadata": {},
   "source": [
    "# Webcrawling process"
   ]
  },
  {
   "cell_type": "code",
   "execution_count": 16,
   "id": "b2cdee44",
   "metadata": {},
   "outputs": [],
   "source": [
    "import pandas as pd\n",
    "import requests\n",
    "import warnings\n",
    "# warnings.filterwarnings(\"ignore\")"
   ]
  },
  {
   "cell_type": "markdown",
   "id": "9e104acd",
   "metadata": {},
   "source": [
    "Generate Links"
   ]
  },
  {
   "cell_type": "code",
   "execution_count": 2,
   "id": "20fff240",
   "metadata": {},
   "outputs": [],
   "source": [
    "url_DOM = [f'https://www.the-numbers.com/market/{2005 + i}/top-grossing-movies' for i in range(0,21)]\n",
    "url_INTL = [f'https://www.the-numbers.com/box-office-records/international/all-movies/cumulative/released-in-{2005 + i}' for i in range(0,21)]\n",
    "url_WW = [f'https://www.the-numbers.com/box-office-records/worldwide/all-movies/cumulative/released-in-{2005 + i}' for i in range(0,21)]"
   ]
  },
  {
   "cell_type": "code",
   "execution_count": 3,
   "id": "a04f757b",
   "metadata": {},
   "outputs": [],
   "source": [
    "def expand_paginated_urls(base_urls, start=101, step=100, max_pages=3):\n",
    "  expanded = []\n",
    "  years = range(2005,2026)\n",
    "  for year, base in zip(years, base_urls):\n",
    "    expanded.append(((year, base)))\n",
    "    # Probe 101, 201, 301, ...\n",
    "    for offset in range(start, start + step * max_pages, step):\n",
    "      paged = f\"{base}/{offset}\"\n",
    "      expanded.append((year,paged))\n",
    "  return expanded\n",
    "\n",
    "url_DOM_2 = expand_paginated_urls(url_DOM, start=101, step=100, max_pages=3)\n",
    "url_INTL_2 = expand_paginated_urls(url_INTL, start=101, step=100, max_pages=3)\n",
    "url_WW_2 = expand_paginated_urls(url_WW, start=101, step=100, max_pages=3)"
   ]
  },
  {
   "cell_type": "markdown",
   "id": "892b32b2",
   "metadata": {},
   "source": [
    "## Get data tables 2005-2025"
   ]
  },
  {
   "cell_type": "code",
   "execution_count": 67,
   "id": "85d12e95",
   "metadata": {},
   "outputs": [],
   "source": [
    "from collections import defaultdict\n",
    "import requests\n",
    "\n",
    "def get_table_from(urls=list,index=int,mkt=str,keep=list,links=False,to_csv=False):\n",
    "  header = { #FAKE BROWSER\n",
    "  \"User-Agent\": \"Mozilla/5.0 (X11; Linux x86_64) AppleWebKit/537.36 (KHTML, like Gecko) Chrome/50.0.2661.75 Safari/537.36\",\n",
    "  \"X-Requested-With\": \"XMLHttpRequest\"\n",
    "  }\n",
    "  base_url = 'https://www.the-numbers.com'\n",
    "  rows_removed = -2 if mkt == 'DOM' else None\n",
    "  year_to_df = defaultdict(list)  # yr -> list[dataframes]\n",
    "  s = requests.Session()\n",
    "\n",
    "  # urls is expected to be an iterable of (year, url) pairs\n",
    "  for yr, link in urls:\n",
    "    try:\n",
    "      r = s.get(link, headers=header, timeout=15)\n",
    "      df = pd.read_html(r.text)[index]\n",
    "      df = df[:rows_removed] if rows_removed is not None else df\n",
    "      df['trunc'] = df['Movie'].astype(str).str.slice(0, 20)\n",
    "\n",
    "      if links:\n",
    "        df_link = pd.read_html(r.text, extract_links='body')[index]\n",
    "        df_link['link'] = df_link['Movie'].apply(lambda v: f'{base_url}{v[1]}' if v[1] is not None else None)\n",
    "        df_link['Movie'] = df_link['Movie'].apply(lambda v: v[0])\n",
    "        df = pd.merge(df, df_link[['Movie', 'link']], on='Movie', how='left')\n",
    "\n",
    "      df = df[keep] if keep else df\n",
    "      year_to_df[yr].append(df)\n",
    "    except Exception:\n",
    "      continue\n",
    "\n",
    "  # Concatenate all pages per year\n",
    "  d = {}\n",
    "  for yr, frames in year_to_df.items():\n",
    "    if frames:\n",
    "      d[f\"df_{mkt}_{yr}\"] = pd.concat(frames, axis=0, ignore_index=True)\n",
    "\n",
    "  if to_csv == True:\n",
    "    for name, df in d.items(): \n",
    "      df.to_csv(f'{mkt}/{name}.csv', index=False)\n",
    "  return d"
   ]
  },
  {
   "cell_type": "markdown",
   "id": "a2008f8e",
   "metadata": {},
   "source": [
    "### Domestic:"
   ]
  },
  {
   "cell_type": "code",
   "execution_count": 5,
   "id": "c5a6b34c",
   "metadata": {},
   "outputs": [],
   "source": [
    "# df_DOM = get_table_from(url_DOM_2[:],0,mkt='DOM',\n",
    "# keep=['Movie','trunc','Release Date','Distributor','Genre'])\n",
    "# df_DOM"
   ]
  },
  {
   "cell_type": "markdown",
   "id": "87533ce4",
   "metadata": {},
   "source": [
    "### International:"
   ]
  },
  {
   "cell_type": "code",
   "execution_count": 6,
   "id": "869c866a",
   "metadata": {},
   "outputs": [],
   "source": [
    "# df_INTL = get_table_from(url_INTL_2[:],1,mkt='INTL',\n",
    "# keep=['Movie','trunc','Share Of Number One Market','Number One Market'])\n",
    "# df_INTL"
   ]
  },
  {
   "cell_type": "markdown",
   "id": "7114f702",
   "metadata": {},
   "source": [
    "### Worldwide:"
   ]
  },
  {
   "cell_type": "code",
   "execution_count": null,
   "id": "a2775e86",
   "metadata": {},
   "outputs": [],
   "source": [
    "# df_WW = get_table_from(url_WW_2[:],1,mkt='WW',links=True,to_csv=True)"
   ]
  },
  {
   "cell_type": "markdown",
   "id": "09c48170",
   "metadata": {},
   "source": [
    "## Merge tables to `df_WW`\n",
    "Phần này vẫn làm ở Python do phải điền thêm data thiếu.."
   ]
  },
  {
   "cell_type": "code",
   "execution_count": 7,
   "id": "f480974d",
   "metadata": {},
   "outputs": [
    {
     "name": "stdout",
     "output_type": "stream",
     "text": [
      "Years loaded - WW: 21, INTL: 21, DOM: 21\n",
      "Final rows: 4829\n"
     ]
    }
   ],
   "source": [
    "import glob, re\n",
    "import pandas as pd\n",
    "\n",
    "# Load all year CSVs from folders and build per-year dataframes\n",
    "def load_year_frames(folder, prefix):\n",
    "  files = glob.glob(f\"{folder}/{prefix}_*.csv\")\n",
    "  out = {}\n",
    "  for path in files:\n",
    "    m = re.search(r\"_(\\d{4})\\.csv$\", path)\n",
    "    if not m:\n",
    "      continue\n",
    "    yr = int(m.group(1))\n",
    "    try:\n",
    "      df = pd.read_csv(path)\n",
    "    except Exception:\n",
    "      continue\n",
    "    if 'trunc' not in df.columns and 'Movie' in df.columns:\n",
    "      df['trunc'] = df['Movie'].astype(str).str.slice(0, 20)\n",
    "    out[yr] = df\n",
    "  return out\n",
    "\n",
    "ww_by_year   = load_year_frames('WW',   'df_WW')\n",
    "intl_by_year = load_year_frames('INTL', 'df_INTL')\n",
    "dom_by_year  = load_year_frames('DOM',  'df_DOM')\n",
    "\n",
    "merged_frames = []\n",
    "for yr, ww0 in ww_by_year.items():\n",
    "  ww = ww0.copy()\n",
    "  if yr in intl_by_year:\n",
    "    ww = pd.merge(\n",
    "      ww,\n",
    "      intl_by_year[yr][['trunc','Share Of Number One Market','Number One Market']],\n",
    "      on='trunc', how='left'\n",
    "    )\n",
    "  if yr in dom_by_year:\n",
    "    ww = pd.merge(\n",
    "      ww,\n",
    "      dom_by_year[yr][['trunc','Release Date','Distributor','Genre']],\n",
    "      on='trunc', how='left'\n",
    "    )\n",
    "  ww['Year'] = yr\n",
    "  if 'trunc' in ww.columns:\n",
    "    ww = ww.drop(columns=['trunc'])\n",
    "  merged_frames.append(ww)\n",
    "\n",
    "# Concatenate all years\n",
    "if merged_frames:\n",
    "  df_WW_all = pd.concat(merged_frames, ignore_index=True)\n",
    "else:\n",
    "  df_WW_all = pd.DataFrame()\n",
    "\n",
    "move_col = df_WW_all.pop('Rank')\n",
    "df_WW_all.insert(11,'Rank',move_col)\n",
    "\n",
    "move_col = df_WW_all.pop('link')\n",
    "df_WW_all.insert(1,'link',move_col)\n",
    "\n",
    "print(f\"Years loaded - WW: {len(ww_by_year)}, INTL: {len(intl_by_year)}, DOM: {len(dom_by_year)}\")\n",
    "print(f\"Final rows: {len(df_WW_all)}\")"
   ]
  },
  {
   "cell_type": "code",
   "execution_count": 8,
   "id": "7cf14471",
   "metadata": {},
   "outputs": [],
   "source": [
    "df_WW_all.to_csv('WW2/WW_all.csv', index=False)"
   ]
  },
  {
   "cell_type": "code",
   "execution_count": 9,
   "id": "a6fe2bf5",
   "metadata": {},
   "outputs": [
    {
     "data": {
      "text/html": [
       "<div>\n",
       "<style scoped>\n",
       "    .dataframe tbody tr th:only-of-type {\n",
       "        vertical-align: middle;\n",
       "    }\n",
       "\n",
       "    .dataframe tbody tr th {\n",
       "        vertical-align: top;\n",
       "    }\n",
       "\n",
       "    .dataframe thead th {\n",
       "        text-align: right;\n",
       "    }\n",
       "</style>\n",
       "<table border=\"1\" class=\"dataframe\">\n",
       "  <thead>\n",
       "    <tr style=\"text-align: right;\">\n",
       "      <th></th>\n",
       "      <th>Movie</th>\n",
       "      <th>link</th>\n",
       "      <th>Worldwide Box Office</th>\n",
       "      <th>Domestic Box Office</th>\n",
       "      <th>International Box Office</th>\n",
       "      <th>Domestic Share</th>\n",
       "      <th>Share Of Number One Market</th>\n",
       "      <th>Number One Market</th>\n",
       "      <th>Release Date</th>\n",
       "      <th>Distributor</th>\n",
       "      <th>Genre</th>\n",
       "      <th>Rank</th>\n",
       "      <th>Year</th>\n",
       "    </tr>\n",
       "  </thead>\n",
       "  <tbody>\n",
       "    <tr>\n",
       "      <th>4824</th>\n",
       "      <td>Io Sono La Fine Del Mondo</td>\n",
       "      <td>https://www.the-numbers.com/movie/Io-Sono-La-F...</td>\n",
       "      <td>$10,164,861</td>\n",
       "      <td>NaN</td>\n",
       "      <td>$10,164,861</td>\n",
       "      <td>NaN</td>\n",
       "      <td>100.0%</td>\n",
       "      <td>Italy</td>\n",
       "      <td>NaN</td>\n",
       "      <td>NaN</td>\n",
       "      <td>NaN</td>\n",
       "      <td>137</td>\n",
       "      <td>2025</td>\n",
       "    </tr>\n",
       "    <tr>\n",
       "      <th>4825</th>\n",
       "      <td>Three Kingdoms: Starlit Heroes (三国的星空第一部)…</td>\n",
       "      <td>https://www.the-numbers.com/movie/Three-Kingdo...</td>\n",
       "      <td>$10,138,632</td>\n",
       "      <td>NaN</td>\n",
       "      <td>$10,138,632</td>\n",
       "      <td>NaN</td>\n",
       "      <td>NaN</td>\n",
       "      <td>NaN</td>\n",
       "      <td>NaN</td>\n",
       "      <td>NaN</td>\n",
       "      <td>NaN</td>\n",
       "      <td>138</td>\n",
       "      <td>2025</td>\n",
       "    </tr>\n",
       "    <tr>\n",
       "      <th>4826</th>\n",
       "      <td>Na derevnyu dedushke (На деревню дедушке)…</td>\n",
       "      <td>https://www.the-numbers.com/movie/Na-derevnyu-...</td>\n",
       "      <td>$10,124,608</td>\n",
       "      <td>NaN</td>\n",
       "      <td>$10,124,608</td>\n",
       "      <td>NaN</td>\n",
       "      <td>100.0%</td>\n",
       "      <td>Russia (CIS)</td>\n",
       "      <td>NaN</td>\n",
       "      <td>NaN</td>\n",
       "      <td>NaN</td>\n",
       "      <td>139</td>\n",
       "      <td>2025</td>\n",
       "    </tr>\n",
       "    <tr>\n",
       "      <th>4827</th>\n",
       "      <td>Dracula: A Love Tale</td>\n",
       "      <td>https://www.the-numbers.com/movie/Dracula-A-Lo...</td>\n",
       "      <td>$10,092,908</td>\n",
       "      <td>NaN</td>\n",
       "      <td>$10,092,908</td>\n",
       "      <td>NaN</td>\n",
       "      <td>87.2%</td>\n",
       "      <td>Russia (CIS)</td>\n",
       "      <td>NaN</td>\n",
       "      <td>NaN</td>\n",
       "      <td>NaN</td>\n",
       "      <td>140</td>\n",
       "      <td>2025</td>\n",
       "    </tr>\n",
       "    <tr>\n",
       "      <th>4828</th>\n",
       "      <td>Red Silk (Красный шелк)</td>\n",
       "      <td>https://www.the-numbers.com/movie/Red-Silk-(20...</td>\n",
       "      <td>$10,016,598</td>\n",
       "      <td>NaN</td>\n",
       "      <td>$10,016,598</td>\n",
       "      <td>NaN</td>\n",
       "      <td>82.4%</td>\n",
       "      <td>Russia (CIS)</td>\n",
       "      <td>NaN</td>\n",
       "      <td>NaN</td>\n",
       "      <td>NaN</td>\n",
       "      <td>141</td>\n",
       "      <td>2025</td>\n",
       "    </tr>\n",
       "  </tbody>\n",
       "</table>\n",
       "</div>"
      ],
      "text/plain": [
       "                                           Movie  \\\n",
       "4824                   Io Sono La Fine Del Mondo   \n",
       "4825  Three Kingdoms: Starlit Heroes (三国的星空第一部)…   \n",
       "4826  Na derevnyu dedushke (На деревню дедушке)…   \n",
       "4827                        Dracula: A Love Tale   \n",
       "4828                     Red Silk (Красный шелк)   \n",
       "\n",
       "                                                   link Worldwide Box Office  \\\n",
       "4824  https://www.the-numbers.com/movie/Io-Sono-La-F...          $10,164,861   \n",
       "4825  https://www.the-numbers.com/movie/Three-Kingdo...          $10,138,632   \n",
       "4826  https://www.the-numbers.com/movie/Na-derevnyu-...          $10,124,608   \n",
       "4827  https://www.the-numbers.com/movie/Dracula-A-Lo...          $10,092,908   \n",
       "4828  https://www.the-numbers.com/movie/Red-Silk-(20...          $10,016,598   \n",
       "\n",
       "     Domestic Box Office International Box Office Domestic Share  \\\n",
       "4824                 NaN              $10,164,861            NaN   \n",
       "4825                 NaN              $10,138,632            NaN   \n",
       "4826                 NaN              $10,124,608            NaN   \n",
       "4827                 NaN              $10,092,908            NaN   \n",
       "4828                 NaN              $10,016,598            NaN   \n",
       "\n",
       "     Share Of Number One Market Number One Market Release Date Distributor  \\\n",
       "4824                     100.0%             Italy          NaN         NaN   \n",
       "4825                        NaN               NaN          NaN         NaN   \n",
       "4826                     100.0%      Russia (CIS)          NaN         NaN   \n",
       "4827                      87.2%      Russia (CIS)          NaN         NaN   \n",
       "4828                      82.4%      Russia (CIS)          NaN         NaN   \n",
       "\n",
       "     Genre  Rank  Year  \n",
       "4824   NaN   137  2025  \n",
       "4825   NaN   138  2025  \n",
       "4826   NaN   139  2025  \n",
       "4827   NaN   140  2025  \n",
       "4828   NaN   141  2025  "
      ]
     },
     "execution_count": 9,
     "metadata": {},
     "output_type": "execute_result"
    }
   ],
   "source": [
    "df_WW_all.tail()"
   ]
  },
  {
   "cell_type": "code",
   "execution_count": 5,
   "id": "89b05c04",
   "metadata": {},
   "outputs": [
    {
     "name": "stdout",
     "output_type": "stream",
     "text": [
      "<class 'pandas.core.frame.DataFrame'>\n",
      "RangeIndex: 4829 entries, 0 to 4828\n",
      "Data columns (total 13 columns):\n",
      " #   Column                      Non-Null Count  Dtype \n",
      "---  ------                      --------------  ----- \n",
      " 0   Movie                       4829 non-null   object\n",
      " 1   link                        4829 non-null   object\n",
      " 2   Worldwide Box Office        4829 non-null   object\n",
      " 3   Domestic Box Office         3496 non-null   object\n",
      " 4   International Box Office    4786 non-null   object\n",
      " 5   Domestic Share              3496 non-null   object\n",
      " 6   Share Of Number One Market  2868 non-null   object\n",
      " 7   Number One Market           2955 non-null   object\n",
      " 8   Release Date                3003 non-null   object\n",
      " 9   Rank                        4829 non-null   int64 \n",
      " 10  Distributor                 2980 non-null   object\n",
      " 11  Genre                       3004 non-null   object\n",
      " 12  Year                        4829 non-null   int64 \n",
      "dtypes: int64(2), object(11)\n",
      "memory usage: 490.6+ KB\n"
     ]
    }
   ],
   "source": [
    "df_WW_all.info()"
   ]
  }
 ],
 "metadata": {
  "kernelspec": {
   "display_name": "Python 3",
   "language": "python",
   "name": "python3"
  },
  "language_info": {
   "codemirror_mode": {
    "name": "ipython",
    "version": 3
   },
   "file_extension": ".py",
   "mimetype": "text/x-python",
   "name": "python",
   "nbconvert_exporter": "python",
   "pygments_lexer": "ipython3",
   "version": "3.12.3"
  }
 },
 "nbformat": 4,
 "nbformat_minor": 5
}
