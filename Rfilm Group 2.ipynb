{
 "cells": [
  {
   "cell_type": "markdown",
   "id": "18ffe23b",
   "metadata": {},
   "source": [
    "# Analysis of Top domestic films with highest Worldwide Box Office 2005-2025\n",
    "By Group 2:\n",
    "- Lê Nguyễn Trường Giang\n",
    "- Nguyễn Bá Dương\n",
    "- Trần Thanh Hải"
   ]
  }
 ],
 "metadata": {
  "language_info": {
   "name": "python"
  }
 },
 "nbformat": 4,
 "nbformat_minor": 5
}
